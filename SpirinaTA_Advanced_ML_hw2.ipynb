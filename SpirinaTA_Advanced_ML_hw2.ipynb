{
  "nbformat": 4,
  "nbformat_minor": 0,
  "metadata": {
    "colab": {
      "name": "Копия блокнота \"Untitled13.ipynb\"",
      "provenance": [],
      "collapsed_sections": []
    },
    "kernelspec": {
      "name": "python3",
      "display_name": "Python 3"
    },
    "language_info": {
      "name": "python"
    }
  },
  "cells": [
    {
      "cell_type": "markdown",
      "source": [
        "## Спирина Татьяна DS-22\n",
        "Домашнее задание 2"
      ],
      "metadata": {
        "id": "bnRCfdpZAdxJ"
      }
    },
    {
      "cell_type": "code",
      "execution_count": 1,
      "metadata": {
        "id": "RTYE_YuBcH_F"
      },
      "outputs": [],
      "source": [
        "import pandas as pd\n",
        "import numpy as np\n",
        "import pickle"
      ]
    },
    {
      "cell_type": "code",
      "source": [
        "from google.colab import drive\n",
        "drive.mount('/content/gdrive')"
      ],
      "metadata": {
        "colab": {
          "base_uri": "https://localhost:8080/"
        },
        "id": "yCRir8-SeHaq",
        "outputId": "90d8293f-8703-4177-8914-35d809a3d05e"
      },
      "execution_count": 2,
      "outputs": [
        {
          "output_type": "stream",
          "name": "stdout",
          "text": [
            "Mounted at /content/gdrive\n"
          ]
        }
      ]
    },
    {
      "cell_type": "markdown",
      "source": [
        "**1. Прочитайте и проанализируйте данные, выберите турниры, в которых есть данные о составах команд и повопросных результатах (поле mask в results.pkl). Для унификации предлагаю:**\n",
        "\n",
        "**- взять в тренировочный набор турниры с dateStart из 2019 года;**\n",
        "\n",
        "**- в тестовый — турниры с dateStart из 2020 года.**\n"
      ],
      "metadata": {
        "id": "ABEJnqBS_4aL"
      }
    },
    {
      "cell_type": "code",
      "source": [
        "players = pd.read_pickle('/content/gdrive/MyDrive/chgk/players.pkl')\n",
        "results = pd.read_pickle('/content/gdrive/MyDrive/chgk/results.pkl')\n",
        "tournaments = pd.read_pickle('/content/gdrive/MyDrive/chgk/tournaments.pkl')\n"
      ],
      "metadata": {
        "id": "kPt8PcaZdOtF"
      },
      "execution_count": 3,
      "outputs": []
    },
    {
      "cell_type": "markdown",
      "source": [
        "Посмотрим устройство данных словарей"
      ],
      "metadata": {
        "id": "iDjPNC0OCkcg"
      }
    },
    {
      "cell_type": "code",
      "source": [
        "print(players[11])\n",
        "print(\"Всего игроков: \", len(players))"
      ],
      "metadata": {
        "colab": {
          "base_uri": "https://localhost:8080/"
        },
        "id": "qEoJwcTnCdzY",
        "outputId": "f9b79573-8ef8-4471-ff71-2cc7a8d4654c"
      },
      "execution_count": null,
      "outputs": [
        {
          "output_type": "stream",
          "name": "stdout",
          "text": [
            "{'id': 11, 'name': 'Наталья', 'patronymic': 'Юрьевна', 'surname': 'Абалымова'}\n",
            "Всего игроков:  204063\n"
          ]
        }
      ]
    },
    {
      "cell_type": "code",
      "source": [
        "tournaments[6131]"
      ],
      "metadata": {
        "colab": {
          "base_uri": "https://localhost:8080/"
        },
        "id": "ztaZ6VtpGQTY",
        "outputId": "da9a6460-ea8a-4c62-ec56-40eb48da71b0"
      },
      "execution_count": 7,
      "outputs": [
        {
          "output_type": "execute_result",
          "data": {
            "text/plain": [
              "{'dateEnd': '2019-12-07T22:00:00+03:00',\n",
              " 'dateStart': '2019-12-07T19:00:00+03:00',\n",
              " 'id': 6131,\n",
              " 'name': 'ДР Земцовского',\n",
              " 'orgcommittee': [{'id': 66486,\n",
              "   'name': 'Артём',\n",
              "   'patronymic': 'Михайлович',\n",
              "   'surname': 'Земцовский'},\n",
              "  {'id': 76278,\n",
              "   'name': 'Богдан',\n",
              "   'patronymic': 'Денисович',\n",
              "   'surname': 'Чадромцев'}],\n",
              " 'questionQty': {'1': 23},\n",
              " 'season': '/seasons/53',\n",
              " 'synchData': None,\n",
              " 'type': {'id': 2, 'name': 'Обычный'}}"
            ]
          },
          "metadata": {},
          "execution_count": 7
        }
      ]
    },
    {
      "cell_type": "code",
      "source": [
        "results[6131]"
      ],
      "metadata": {
        "colab": {
          "base_uri": "https://localhost:8080/"
        },
        "id": "tNkE2QefCXz4",
        "outputId": "06439c6c-82ab-4d55-fbec-0b7833ac9e8a"
      },
      "execution_count": 6,
      "outputs": [
        {
          "output_type": "execute_result",
          "data": {
            "text/plain": [
              "[{'controversials': [],\n",
              "  'current': {'name': 'Тема Земцовский',\n",
              "   'town': {'id': 11, 'name': 'Архангельск'}},\n",
              "  'flags': [],\n",
              "  'mask': '01111001001011100100001',\n",
              "  'position': 1,\n",
              "  'questionsTotal': 11,\n",
              "  'synchRequest': None,\n",
              "  'team': {'id': 55606,\n",
              "   'name': 'Искусство ухода',\n",
              "   'town': {'id': 201, 'name': 'Москва'}},\n",
              "  'teamMembers': [{'flag': 'К',\n",
              "    'player': {'id': 66486,\n",
              "     'name': 'Артём',\n",
              "     'patronymic': 'Михайлович',\n",
              "     'surname': 'Земцовский'},\n",
              "    'rating': 10467,\n",
              "    'usedRating': 10467}]},\n",
              " {'controversials': [],\n",
              "  'current': {'name': 'Коля Дорофеев', 'town': {'id': 281, 'name': 'Рязань'}},\n",
              "  'flags': [],\n",
              "  'mask': '01000000011101110100100',\n",
              "  'position': 2,\n",
              "  'questionsTotal': 9,\n",
              "  'synchRequest': None,\n",
              "  'team': {'id': 76000,\n",
              "   'name': 'Коля Дорофеев',\n",
              "   'town': {'id': 281, 'name': 'Рязань'}},\n",
              "  'teamMembers': [{'flag': None,\n",
              "    'player': {'id': 113355,\n",
              "     'name': 'Анастасия',\n",
              "     'patronymic': 'Алексеевна',\n",
              "     'surname': 'Мазурова'},\n",
              "    'rating': 9534,\n",
              "    'usedRating': 9534},\n",
              "   {'flag': 'Л',\n",
              "    'player': {'id': 113083,\n",
              "     'name': 'Николай',\n",
              "     'patronymic': 'Михайлович',\n",
              "     'surname': 'Дорофеев'},\n",
              "    'rating': 8955,\n",
              "    'usedRating': 7463}]},\n",
              " {'controversials': [],\n",
              "  'current': {'name': 'Лёша Овчинников',\n",
              "   'town': {'id': 2060, 'name': 'Мадрид'}},\n",
              "  'flags': [],\n",
              "  'mask': '01000100100110100100010',\n",
              "  'position': 4,\n",
              "  'questionsTotal': 8,\n",
              "  'synchRequest': None,\n",
              "  'team': {'id': 75998,\n",
              "   'name': 'Лёша Овчинников',\n",
              "   'town': {'id': 2060, 'name': 'Мадрид'}},\n",
              "  'teamMembers': [{'flag': 'Л',\n",
              "    'player': {'id': 113357,\n",
              "     'name': 'Алексей',\n",
              "     'patronymic': 'Владимирович',\n",
              "     'surname': 'Овчинников'},\n",
              "    'rating': 9740,\n",
              "    'usedRating': 9740},\n",
              "   {'flag': 'Л',\n",
              "    'player': {'id': 134705,\n",
              "     'name': 'Юлия',\n",
              "     'patronymic': 'Сергеевна',\n",
              "     'surname': 'Лукьянова'},\n",
              "    'rating': 9536,\n",
              "    'usedRating': 7947}]},\n",
              " {'controversials': [],\n",
              "  'current': {'name': 'Иван Петренко',\n",
              "   'town': {'id': 159, 'name': 'Кострома'}},\n",
              "  'flags': [],\n",
              "  'mask': '00000100011011010101000',\n",
              "  'position': 4,\n",
              "  'questionsTotal': 8,\n",
              "  'synchRequest': None,\n",
              "  'team': {'id': 75999,\n",
              "   'name': 'Иван Петренко',\n",
              "   'town': {'id': 159, 'name': 'Кострома'}},\n",
              "  'teamMembers': [{'flag': 'Л',\n",
              "    'player': {'id': 126604,\n",
              "     'name': 'Иван',\n",
              "     'patronymic': 'Сергеевич',\n",
              "     'surname': 'Петренко'},\n",
              "    'rating': 11286,\n",
              "    'usedRating': 11286},\n",
              "   {'flag': 'К',\n",
              "    'player': {'id': 113085,\n",
              "     'name': 'Никита',\n",
              "     'patronymic': 'Алексеевич',\n",
              "     'surname': 'Жуковский'},\n",
              "    'rating': 1696,\n",
              "    'usedRating': 1413}]},\n",
              " {'controversials': [],\n",
              "  'current': {'name': 'Даня Добровольский',\n",
              "   'town': {'id': 201, 'name': 'Москва'}},\n",
              "  'flags': [],\n",
              "  'mask': '11000011011000000110000',\n",
              "  'position': 4,\n",
              "  'questionsTotal': 8,\n",
              "  'synchRequest': None,\n",
              "  'team': {'id': 76001,\n",
              "   'name': 'Даня Добровольский',\n",
              "   'town': {'id': 201, 'name': 'Москва'}},\n",
              "  'teamMembers': [{'flag': None,\n",
              "    'player': {'id': 113084,\n",
              "     'name': 'Данила',\n",
              "     'patronymic': 'Дмитриевич',\n",
              "     'surname': 'Добровольский'},\n",
              "    'rating': 8130,\n",
              "    'usedRating': 8130}]}]"
            ]
          },
          "metadata": {},
          "execution_count": 6
        }
      ]
    },
    {
      "cell_type": "markdown",
      "source": [
        "Results, по идее, представляет из себя словарь, где ключи - id турниров. Проверим, что их количество совпадает"
      ],
      "metadata": {
        "id": "Sn6B6JBlE8sZ"
      }
    },
    {
      "cell_type": "code",
      "source": [
        "print(len(tournaments) == len(results), len(results))"
      ],
      "metadata": {
        "colab": {
          "base_uri": "https://localhost:8080/"
        },
        "id": "DZljcUXXDwrD",
        "outputId": "267982df-28f0-4b1d-c9f6-e93083cd210b"
      },
      "execution_count": null,
      "outputs": [
        {
          "output_type": "stream",
          "name": "stdout",
          "text": [
            "True 5528\n"
          ]
        }
      ]
    },
    {
      "cell_type": "code",
      "source": [
        "tournaments_df = pd.DataFrame(tournaments).T[[\"id\",\"name\"]]\n",
        "tournaments_df.rename(columns={\"id\": \"tourn_id\"}, inplace=True)"
      ],
      "metadata": {
        "id": "jY41LSsGK7c3"
      },
      "execution_count": null,
      "outputs": []
    },
    {
      "cell_type": "code",
      "source": [
        "tournaments_df"
      ],
      "metadata": {
        "colab": {
          "base_uri": "https://localhost:8080/",
          "height": 424
        },
        "id": "YzUvVFOdQF3E",
        "outputId": "f4eae555-ed40-4072-deb1-f1641993be6d"
      },
      "execution_count": null,
      "outputs": [
        {
          "output_type": "execute_result",
          "data": {
            "text/plain": [
              "     tourn_id                                               name\n",
              "1           1                           Чемпионат Южного Кавказа\n",
              "2           2                                        Летние зори\n",
              "3           3                                   Турнир в Ижевске\n",
              "4           4                 Чемпионат Украины. Переходной этап\n",
              "5           5                                Бостонское чаепитие\n",
              "...       ...                                                ...\n",
              "6481     6481  Онлайн: 15:00 (а)Синхрон-lite. Лига старта. Эп...\n",
              "6482     6482                          Онлайн: 19:00 Зелёный шум\n",
              "6483     6483  Онлайн: 19:00 (а)Синхрон-lite. Лига старта. Эп...\n",
              "6484     6484      Онлайн: 22:00 Не числом, а умением - 2 (NEW!)\n",
              "6485     6485                 Онлайн: 19:00 Не числом, а умением\n",
              "\n",
              "[5528 rows x 2 columns]"
            ],
            "text/html": [
              "\n",
              "  <div id=\"df-eef00a4f-d79f-4da3-86ac-37f2e33fb9d9\">\n",
              "    <div class=\"colab-df-container\">\n",
              "      <div>\n",
              "<style scoped>\n",
              "    .dataframe tbody tr th:only-of-type {\n",
              "        vertical-align: middle;\n",
              "    }\n",
              "\n",
              "    .dataframe tbody tr th {\n",
              "        vertical-align: top;\n",
              "    }\n",
              "\n",
              "    .dataframe thead th {\n",
              "        text-align: right;\n",
              "    }\n",
              "</style>\n",
              "<table border=\"1\" class=\"dataframe\">\n",
              "  <thead>\n",
              "    <tr style=\"text-align: right;\">\n",
              "      <th></th>\n",
              "      <th>tourn_id</th>\n",
              "      <th>name</th>\n",
              "    </tr>\n",
              "  </thead>\n",
              "  <tbody>\n",
              "    <tr>\n",
              "      <th>1</th>\n",
              "      <td>1</td>\n",
              "      <td>Чемпионат Южного Кавказа</td>\n",
              "    </tr>\n",
              "    <tr>\n",
              "      <th>2</th>\n",
              "      <td>2</td>\n",
              "      <td>Летние зори</td>\n",
              "    </tr>\n",
              "    <tr>\n",
              "      <th>3</th>\n",
              "      <td>3</td>\n",
              "      <td>Турнир в Ижевске</td>\n",
              "    </tr>\n",
              "    <tr>\n",
              "      <th>4</th>\n",
              "      <td>4</td>\n",
              "      <td>Чемпионат Украины. Переходной этап</td>\n",
              "    </tr>\n",
              "    <tr>\n",
              "      <th>5</th>\n",
              "      <td>5</td>\n",
              "      <td>Бостонское чаепитие</td>\n",
              "    </tr>\n",
              "    <tr>\n",
              "      <th>...</th>\n",
              "      <td>...</td>\n",
              "      <td>...</td>\n",
              "    </tr>\n",
              "    <tr>\n",
              "      <th>6481</th>\n",
              "      <td>6481</td>\n",
              "      <td>Онлайн: 15:00 (а)Синхрон-lite. Лига старта. Эп...</td>\n",
              "    </tr>\n",
              "    <tr>\n",
              "      <th>6482</th>\n",
              "      <td>6482</td>\n",
              "      <td>Онлайн: 19:00 Зелёный шум</td>\n",
              "    </tr>\n",
              "    <tr>\n",
              "      <th>6483</th>\n",
              "      <td>6483</td>\n",
              "      <td>Онлайн: 19:00 (а)Синхрон-lite. Лига старта. Эп...</td>\n",
              "    </tr>\n",
              "    <tr>\n",
              "      <th>6484</th>\n",
              "      <td>6484</td>\n",
              "      <td>Онлайн: 22:00 Не числом, а умением - 2 (NEW!)</td>\n",
              "    </tr>\n",
              "    <tr>\n",
              "      <th>6485</th>\n",
              "      <td>6485</td>\n",
              "      <td>Онлайн: 19:00 Не числом, а умением</td>\n",
              "    </tr>\n",
              "  </tbody>\n",
              "</table>\n",
              "<p>5528 rows × 2 columns</p>\n",
              "</div>\n",
              "      <button class=\"colab-df-convert\" onclick=\"convertToInteractive('df-eef00a4f-d79f-4da3-86ac-37f2e33fb9d9')\"\n",
              "              title=\"Convert this dataframe to an interactive table.\"\n",
              "              style=\"display:none;\">\n",
              "        \n",
              "  <svg xmlns=\"http://www.w3.org/2000/svg\" height=\"24px\"viewBox=\"0 0 24 24\"\n",
              "       width=\"24px\">\n",
              "    <path d=\"M0 0h24v24H0V0z\" fill=\"none\"/>\n",
              "    <path d=\"M18.56 5.44l.94 2.06.94-2.06 2.06-.94-2.06-.94-.94-2.06-.94 2.06-2.06.94zm-11 1L8.5 8.5l.94-2.06 2.06-.94-2.06-.94L8.5 2.5l-.94 2.06-2.06.94zm10 10l.94 2.06.94-2.06 2.06-.94-2.06-.94-.94-2.06-.94 2.06-2.06.94z\"/><path d=\"M17.41 7.96l-1.37-1.37c-.4-.4-.92-.59-1.43-.59-.52 0-1.04.2-1.43.59L10.3 9.45l-7.72 7.72c-.78.78-.78 2.05 0 2.83L4 21.41c.39.39.9.59 1.41.59.51 0 1.02-.2 1.41-.59l7.78-7.78 2.81-2.81c.8-.78.8-2.07 0-2.86zM5.41 20L4 18.59l7.72-7.72 1.47 1.35L5.41 20z\"/>\n",
              "  </svg>\n",
              "      </button>\n",
              "      \n",
              "  <style>\n",
              "    .colab-df-container {\n",
              "      display:flex;\n",
              "      flex-wrap:wrap;\n",
              "      gap: 12px;\n",
              "    }\n",
              "\n",
              "    .colab-df-convert {\n",
              "      background-color: #E8F0FE;\n",
              "      border: none;\n",
              "      border-radius: 50%;\n",
              "      cursor: pointer;\n",
              "      display: none;\n",
              "      fill: #1967D2;\n",
              "      height: 32px;\n",
              "      padding: 0 0 0 0;\n",
              "      width: 32px;\n",
              "    }\n",
              "\n",
              "    .colab-df-convert:hover {\n",
              "      background-color: #E2EBFA;\n",
              "      box-shadow: 0px 1px 2px rgba(60, 64, 67, 0.3), 0px 1px 3px 1px rgba(60, 64, 67, 0.15);\n",
              "      fill: #174EA6;\n",
              "    }\n",
              "\n",
              "    [theme=dark] .colab-df-convert {\n",
              "      background-color: #3B4455;\n",
              "      fill: #D2E3FC;\n",
              "    }\n",
              "\n",
              "    [theme=dark] .colab-df-convert:hover {\n",
              "      background-color: #434B5C;\n",
              "      box-shadow: 0px 1px 3px 1px rgba(0, 0, 0, 0.15);\n",
              "      filter: drop-shadow(0px 1px 2px rgba(0, 0, 0, 0.3));\n",
              "      fill: #FFFFFF;\n",
              "    }\n",
              "  </style>\n",
              "\n",
              "      <script>\n",
              "        const buttonEl =\n",
              "          document.querySelector('#df-eef00a4f-d79f-4da3-86ac-37f2e33fb9d9 button.colab-df-convert');\n",
              "        buttonEl.style.display =\n",
              "          google.colab.kernel.accessAllowed ? 'block' : 'none';\n",
              "\n",
              "        async function convertToInteractive(key) {\n",
              "          const element = document.querySelector('#df-eef00a4f-d79f-4da3-86ac-37f2e33fb9d9');\n",
              "          const dataTable =\n",
              "            await google.colab.kernel.invokeFunction('convertToInteractive',\n",
              "                                                     [key], {});\n",
              "          if (!dataTable) return;\n",
              "\n",
              "          const docLinkHtml = 'Like what you see? Visit the ' +\n",
              "            '<a target=\"_blank\" href=https://colab.research.google.com/notebooks/data_table.ipynb>data table notebook</a>'\n",
              "            + ' to learn more about interactive tables.';\n",
              "          element.innerHTML = '';\n",
              "          dataTable['output_type'] = 'display_data';\n",
              "          await google.colab.output.renderOutput(dataTable, element);\n",
              "          const docLink = document.createElement('div');\n",
              "          docLink.innerHTML = docLinkHtml;\n",
              "          element.appendChild(docLink);\n",
              "        }\n",
              "      </script>\n",
              "    </div>\n",
              "  </div>\n",
              "  "
            ]
          },
          "metadata": {},
          "execution_count": 5
        }
      ]
    },
    {
      "cell_type": "markdown",
      "source": [
        "Определим Id тренировочных и тестовых соревнований. Среди 2019 и 2020 годов отбираем соревнования для которых есть поле mask и оно не None.\n",
        "Кроме того, есть некоторое количество длительных турниров. Например, с датой начала в 2019г и окончания в 2020. Если не ошибаюсь, в таких годовых турнирах (Балтийский берег, например) отдельно рейтингуется каждый тур и команды играют не все турниры. Судя по всему, каждый тур таких соревнований записан отдельно. Поэтому соревнования, у которых поле mask не одинаковой длинны для всех команд тоже решено не включать в датасет."
      ],
      "metadata": {
        "id": "zEGspV3CDFNQ"
      }
    },
    {
      "cell_type": "code",
      "source": [
        "def find_game_id(year, tournaments, results):\n",
        "  tournaments_idxs = []\n",
        "  for id, tournament in tournaments.items():\n",
        "    if tournament[\"dateStart\"][:4] in [year]:\n",
        "      if results[id]:\n",
        "        if 'mask' in results[id][0]:\n",
        "          if results[id][0]['mask'] is not None:\n",
        "            for i in range(len(results[id])):\n",
        "              if results[id][i]['mask'] is not None:\n",
        "                if len(results[id][0]['mask']) != len(results[id][i]['mask']):\n",
        "                  break\n",
        "            else:\n",
        "              tournaments_idxs.append(id)\n",
        "  return tournaments_idxs"
      ],
      "metadata": {
        "id": "RwETwoQCC0WW"
      },
      "execution_count": null,
      "outputs": []
    },
    {
      "cell_type": "code",
      "source": [
        "tournaments_idxs = find_game_id('2019', tournaments, results)\n",
        "tournaments_test_idxs = find_game_id(\"2020\", tournaments, results)\n",
        "print(\"Тренировочных соревнований: \", len(tournaments_idxs), \"\\n\", \"Тестовых соревнований: \", len(tournaments_test_idxs))"
      ],
      "metadata": {
        "colab": {
          "base_uri": "https://localhost:8080/"
        },
        "id": "9duOIFAvD6w2",
        "outputId": "48e56cbc-f235-488a-c027-ff7406b4685f"
      },
      "execution_count": null,
      "outputs": [
        {
          "output_type": "stream",
          "name": "stdout",
          "text": [
            "Тренировочных соревнований:  662 \n",
            " Тестовых соревнований:  169\n"
          ]
        }
      ]
    },
    {
      "cell_type": "markdown",
      "source": [
        "**2. Постройте baseline-модель на основе линейной или логистической регрессии, которая будет обучать рейтинг-лист игроков. Замечания и подсказки:**\n",
        "\n",
        "\n",
        "**-  повопросные результаты — это фактически результаты броска монетки, и их предсказание скорее всего имеет отношение к бинарной классификации;**\n",
        "**-  в разных турнирах вопросы совсем разного уровня сложности, поэтому модель должна это учитывать; скорее всего, модель должна будет явно обучать не только силу каждого игрока, но и сложность каждого вопроса;**\n",
        "**-   для baseline-модели можно забыть о командах и считать, что повопросные результаты команды просто относятся к каждому из её игроков.** "
      ],
      "metadata": {
        "id": "B5flJuOGAf93"
      }
    },
    {
      "cell_type": "markdown",
      "source": [
        "В ходе изучения данных, заметила, что поле mask иногда содержит не только 0 и 1, но и Х и ?. \n",
        "? присутствует только у части команд турнира, и в сумму правильных ответов команды не попадает, поэтому решила заменить его на 0. \n",
        "Х, похоже на снятие вопроса для всех команд. Отражаем это в формировании train.\n",
        "Здесь я формировала таблицу Игрок-Вопрос-Ответ (1\\0)\n"
      ],
      "metadata": {
        "id": "-_ySDloyoCri"
      }
    },
    {
      "cell_type": "code",
      "source": [
        "# X_train = []\n",
        "team_data = []\n",
        "for game, values in results.items():\n",
        "  if game in tournaments_idxs:\n",
        "    for team in values:\n",
        "      if team['mask'] is not None:\n",
        "        total_q = len(team['mask'])\n",
        "    \n",
        "        for player in team['teamMembers']:\n",
        "          for q in range(total_q):\n",
        "            res = team['mask'][q]\n",
        "            if res == \"?\":\n",
        "              res = 0\n",
        "            if res == \"X\":\n",
        "              continue\n",
        "              \n",
        "            # X_train.append([player[\"player\"][\"id\"], str(game) + \"_\" + str(q), int(res) ])\n",
        "            team_data.append([team[\"team\"][\"id\"], player[\"player\"][\"id\"], str(game) + \"_\" + str(q), int(res)])"
      ],
      "metadata": {
        "id": "0QchwfVXwUdQ"
      },
      "execution_count": null,
      "outputs": []
    },
    {
      "cell_type": "code",
      "source": [
        "team_data = pd.DataFrame(team_data, columns=[\"team_id\", \"player_id\", \"quest_id\", \"answer\"])\n",
        "X_train = team_data.drop([\"team_id\"], axis=1)"
      ],
      "metadata": {
        "id": "aDOqvctcmY_g"
      },
      "execution_count": null,
      "outputs": []
    },
    {
      "cell_type": "code",
      "source": [
        "X_train.shape"
      ],
      "metadata": {
        "colab": {
          "base_uri": "https://localhost:8080/"
        },
        "id": "gUw6po22grN3",
        "outputId": "23115e8a-067b-430a-c985-5b60d5412a1b"
      },
      "execution_count": null,
      "outputs": [
        {
          "output_type": "execute_result",
          "data": {
            "text/plain": [
              "(16151967, 3)"
            ]
          },
          "metadata": {},
          "execution_count": 15
        }
      ]
    },
    {
      "cell_type": "code",
      "source": [
        "X_train.head()"
      ],
      "metadata": {
        "colab": {
          "base_uri": "https://localhost:8080/",
          "height": 206
        },
        "id": "BPRDlLL2JC1a",
        "outputId": "daa4e75a-b44a-485b-c25c-76bdffc4a6a8"
      },
      "execution_count": null,
      "outputs": [
        {
          "output_type": "execute_result",
          "data": {
            "text/plain": [
              "   player_id quest_id  answer\n",
              "0       6212   4772_0       1\n",
              "1       6212   4772_1       1\n",
              "2       6212   4772_2       1\n",
              "3       6212   4772_3       1\n",
              "4       6212   4772_4       1"
            ],
            "text/html": [
              "\n",
              "  <div id=\"df-85920335-d8e6-4831-8dd6-1296a7e78da9\">\n",
              "    <div class=\"colab-df-container\">\n",
              "      <div>\n",
              "<style scoped>\n",
              "    .dataframe tbody tr th:only-of-type {\n",
              "        vertical-align: middle;\n",
              "    }\n",
              "\n",
              "    .dataframe tbody tr th {\n",
              "        vertical-align: top;\n",
              "    }\n",
              "\n",
              "    .dataframe thead th {\n",
              "        text-align: right;\n",
              "    }\n",
              "</style>\n",
              "<table border=\"1\" class=\"dataframe\">\n",
              "  <thead>\n",
              "    <tr style=\"text-align: right;\">\n",
              "      <th></th>\n",
              "      <th>player_id</th>\n",
              "      <th>quest_id</th>\n",
              "      <th>answer</th>\n",
              "    </tr>\n",
              "  </thead>\n",
              "  <tbody>\n",
              "    <tr>\n",
              "      <th>0</th>\n",
              "      <td>6212</td>\n",
              "      <td>4772_0</td>\n",
              "      <td>1</td>\n",
              "    </tr>\n",
              "    <tr>\n",
              "      <th>1</th>\n",
              "      <td>6212</td>\n",
              "      <td>4772_1</td>\n",
              "      <td>1</td>\n",
              "    </tr>\n",
              "    <tr>\n",
              "      <th>2</th>\n",
              "      <td>6212</td>\n",
              "      <td>4772_2</td>\n",
              "      <td>1</td>\n",
              "    </tr>\n",
              "    <tr>\n",
              "      <th>3</th>\n",
              "      <td>6212</td>\n",
              "      <td>4772_3</td>\n",
              "      <td>1</td>\n",
              "    </tr>\n",
              "    <tr>\n",
              "      <th>4</th>\n",
              "      <td>6212</td>\n",
              "      <td>4772_4</td>\n",
              "      <td>1</td>\n",
              "    </tr>\n",
              "  </tbody>\n",
              "</table>\n",
              "</div>\n",
              "      <button class=\"colab-df-convert\" onclick=\"convertToInteractive('df-85920335-d8e6-4831-8dd6-1296a7e78da9')\"\n",
              "              title=\"Convert this dataframe to an interactive table.\"\n",
              "              style=\"display:none;\">\n",
              "        \n",
              "  <svg xmlns=\"http://www.w3.org/2000/svg\" height=\"24px\"viewBox=\"0 0 24 24\"\n",
              "       width=\"24px\">\n",
              "    <path d=\"M0 0h24v24H0V0z\" fill=\"none\"/>\n",
              "    <path d=\"M18.56 5.44l.94 2.06.94-2.06 2.06-.94-2.06-.94-.94-2.06-.94 2.06-2.06.94zm-11 1L8.5 8.5l.94-2.06 2.06-.94-2.06-.94L8.5 2.5l-.94 2.06-2.06.94zm10 10l.94 2.06.94-2.06 2.06-.94-2.06-.94-.94-2.06-.94 2.06-2.06.94z\"/><path d=\"M17.41 7.96l-1.37-1.37c-.4-.4-.92-.59-1.43-.59-.52 0-1.04.2-1.43.59L10.3 9.45l-7.72 7.72c-.78.78-.78 2.05 0 2.83L4 21.41c.39.39.9.59 1.41.59.51 0 1.02-.2 1.41-.59l7.78-7.78 2.81-2.81c.8-.78.8-2.07 0-2.86zM5.41 20L4 18.59l7.72-7.72 1.47 1.35L5.41 20z\"/>\n",
              "  </svg>\n",
              "      </button>\n",
              "      \n",
              "  <style>\n",
              "    .colab-df-container {\n",
              "      display:flex;\n",
              "      flex-wrap:wrap;\n",
              "      gap: 12px;\n",
              "    }\n",
              "\n",
              "    .colab-df-convert {\n",
              "      background-color: #E8F0FE;\n",
              "      border: none;\n",
              "      border-radius: 50%;\n",
              "      cursor: pointer;\n",
              "      display: none;\n",
              "      fill: #1967D2;\n",
              "      height: 32px;\n",
              "      padding: 0 0 0 0;\n",
              "      width: 32px;\n",
              "    }\n",
              "\n",
              "    .colab-df-convert:hover {\n",
              "      background-color: #E2EBFA;\n",
              "      box-shadow: 0px 1px 2px rgba(60, 64, 67, 0.3), 0px 1px 3px 1px rgba(60, 64, 67, 0.15);\n",
              "      fill: #174EA6;\n",
              "    }\n",
              "\n",
              "    [theme=dark] .colab-df-convert {\n",
              "      background-color: #3B4455;\n",
              "      fill: #D2E3FC;\n",
              "    }\n",
              "\n",
              "    [theme=dark] .colab-df-convert:hover {\n",
              "      background-color: #434B5C;\n",
              "      box-shadow: 0px 1px 3px 1px rgba(0, 0, 0, 0.15);\n",
              "      filter: drop-shadow(0px 1px 2px rgba(0, 0, 0, 0.3));\n",
              "      fill: #FFFFFF;\n",
              "    }\n",
              "  </style>\n",
              "\n",
              "      <script>\n",
              "        const buttonEl =\n",
              "          document.querySelector('#df-85920335-d8e6-4831-8dd6-1296a7e78da9 button.colab-df-convert');\n",
              "        buttonEl.style.display =\n",
              "          google.colab.kernel.accessAllowed ? 'block' : 'none';\n",
              "\n",
              "        async function convertToInteractive(key) {\n",
              "          const element = document.querySelector('#df-85920335-d8e6-4831-8dd6-1296a7e78da9');\n",
              "          const dataTable =\n",
              "            await google.colab.kernel.invokeFunction('convertToInteractive',\n",
              "                                                     [key], {});\n",
              "          if (!dataTable) return;\n",
              "\n",
              "          const docLinkHtml = 'Like what you see? Visit the ' +\n",
              "            '<a target=\"_blank\" href=https://colab.research.google.com/notebooks/data_table.ipynb>data table notebook</a>'\n",
              "            + ' to learn more about interactive tables.';\n",
              "          element.innerHTML = '';\n",
              "          dataTable['output_type'] = 'display_data';\n",
              "          await google.colab.output.renderOutput(dataTable, element);\n",
              "          const docLink = document.createElement('div');\n",
              "          docLink.innerHTML = docLinkHtml;\n",
              "          element.appendChild(docLink);\n",
              "        }\n",
              "      </script>\n",
              "    </div>\n",
              "  </div>\n",
              "  "
            ]
          },
          "metadata": {},
          "execution_count": 16
        }
      ]
    },
    {
      "cell_type": "code",
      "source": [
        "y_train = np.array(X_train[\"answer\"])\n",
        "X_train = X_train.drop([\"answer\"], axis=1)"
      ],
      "metadata": {
        "id": "bufajct29dYl"
      },
      "execution_count": null,
      "outputs": []
    },
    {
      "cell_type": "code",
      "source": [
        "train_players = np.unique(X_train[\"player_id\"])\n",
        "print(\"Число игроков в турнирах 2019г \", len(train_players))"
      ],
      "metadata": {
        "id": "9n5oY5E0y3aZ",
        "colab": {
          "base_uri": "https://localhost:8080/"
        },
        "outputId": "bf382ca4-34fb-4bbb-b8d3-a07ed1976b45"
      },
      "execution_count": null,
      "outputs": [
        {
          "output_type": "stream",
          "name": "stdout",
          "text": [
            "Число игроков в турнирах 2019г  56937\n"
          ]
        }
      ]
    },
    {
      "cell_type": "code",
      "source": [
        "train_questions = np.unique(X_train[\"quest_id\"])\n",
        "print(\"Число вопросов в турнирах 2019г \", len(train_questions))"
      ],
      "metadata": {
        "colab": {
          "base_uri": "https://localhost:8080/"
        },
        "id": "H1kxe2IVDEu-",
        "outputId": "5345b4e5-c576-438c-ca27-e9ddbb8a9915"
      },
      "execution_count": null,
      "outputs": [
        {
          "output_type": "stream",
          "name": "stdout",
          "text": [
            "Число вопросов в турнирах 2019г  30852\n"
          ]
        }
      ]
    },
    {
      "cell_type": "markdown",
      "source": [
        "Цель обучения модели - получить \"силу\" игроков, которая может быть получена как веса модели, если каждый игрок - это фича. Сначала казалось логичым посчитать какую-то условную сложность каждого вопроса(доля правильных ответов, например) и учитывать эту фичу в модели. Но фраза из задания \"модель должна будет явно обучать не только силу каждого игрока, но и сложность каждого вопроса\" говорит о том, что сложность задаем не мы, а обучит модель. Тогда получается, что сложность кажадого вопроса тоже должна быть весами модели. Тогда итоговый X_train будет представлять из себя:\n",
        "\n",
        "Наблюдение - Ответ_игрока_на_вопрос. \n",
        "\n",
        "Фичи - все игроки и все вопросы. \n",
        "\n",
        "Таргет - 0/1 ответ игрока на вопрос.\n",
        "\n",
        "На этих данных обучим логистическую регрессию.\n",
        "Вообще для варианта только с одним 2019 годом датасет еще выглядит подъемным, но от мысли потом попробовать обучить это на нескольких годах я отказалась."
      ],
      "metadata": {
        "id": "VE3xsfe0LBKQ"
      }
    },
    {
      "cell_type": "code",
      "source": [
        "del tournaments"
      ],
      "metadata": {
        "id": "SkZHwnoShb_z"
      },
      "execution_count": null,
      "outputs": []
    },
    {
      "cell_type": "code",
      "source": [
        "from sklearn.preprocessing import OneHotEncoder\n",
        "X_train = OneHotEncoder().fit_transform(X_train[['player_id', \"quest_id\"]])"
      ],
      "metadata": {
        "id": "1FxEVqR68xSl"
      },
      "execution_count": null,
      "outputs": []
    },
    {
      "cell_type": "code",
      "source": [
        "assert (X_train.shape[0] == y_train.shape[0])\n",
        "assert (len(train_players) + len(train_questions) == X_train.shape[1])"
      ],
      "metadata": {
        "id": "OFnBQrD490Ih"
      },
      "execution_count": null,
      "outputs": []
    },
    {
      "cell_type": "code",
      "source": [
        "from sklearn.linear_model import LogisticRegression\n",
        "lr = LogisticRegression(solver=\"saga\", max_iter=500, n_jobs=-1)\n",
        "lr.fit(X_train, y_train)"
      ],
      "metadata": {
        "colab": {
          "base_uri": "https://localhost:8080/"
        },
        "id": "Pr63wTUj-G8z",
        "outputId": "ba8da306-f20a-4c9e-c0cf-53b5d36abb1c"
      },
      "execution_count": null,
      "outputs": [
        {
          "output_type": "execute_result",
          "data": {
            "text/plain": [
              "LogisticRegression(max_iter=500, n_jobs=-1, solver='saga')"
            ]
          },
          "metadata": {},
          "execution_count": 17
        }
      ]
    },
    {
      "cell_type": "code",
      "source": [
        "lr.coef_"
      ],
      "metadata": {
        "colab": {
          "base_uri": "https://localhost:8080/"
        },
        "id": "x9lOVANu3Sm8",
        "outputId": "7c5b4b4c-1e05-4e34-e661-fb1404c524ad"
      },
      "execution_count": null,
      "outputs": [
        {
          "output_type": "execute_result",
          "data": {
            "text/plain": [
              "array([[ 0.75369085,  1.5945806 ,  1.13296277, ..., -0.51467572,\n",
              "         5.03958303,  3.05567268]])"
            ]
          },
          "metadata": {},
          "execution_count": 23
        }
      ]
    },
    {
      "cell_type": "markdown",
      "source": [
        "В обученной модели первая часть весов, равная количеству игроков турниров 2019 года, - условная сила данных игроков. Сформируем на основе этого итоговую таблицу"
      ],
      "metadata": {
        "id": "32LgyCtoR151"
      }
    },
    {
      "cell_type": "code",
      "source": [
        "power = pd.DataFrame({\"id\": train_players, \"power\": lr.coef_[0][:len(train_players)]})"
      ],
      "metadata": {
        "id": "kWUxDYJXJWfq"
      },
      "execution_count": null,
      "outputs": []
    },
    {
      "cell_type": "code",
      "source": [
        "players_df = pd.DataFrame(players).T\n",
        "players_df[\"full name\"] = players_df[\"surname\"]+\" \"+ players_df[\"name\"]+\" \" +players_df[\"patronymic\"]\n",
        "players_data = players_df[[\"id\", \"full name\"]]\n",
        "power_result = pd.merge(power, players_data).sort_values(by=\"power\", ascending=False)"
      ],
      "metadata": {
        "id": "7Vj0ksCJ3bXF"
      },
      "execution_count": null,
      "outputs": []
    },
    {
      "cell_type": "code",
      "source": [
        "del players"
      ],
      "metadata": {
        "id": "mdoQbfymigaJ"
      },
      "execution_count": null,
      "outputs": []
    },
    {
      "cell_type": "code",
      "source": [
        "power_result.reset_index(drop=True).head(20)"
      ],
      "metadata": {
        "colab": {
          "base_uri": "https://localhost:8080/",
          "height": 677
        },
        "id": "5ovwGTF55goA",
        "outputId": "7dd668e5-a636-4cb7-d01b-55674b9fd7f4"
      },
      "execution_count": null,
      "outputs": [
        {
          "output_type": "execute_result",
          "data": {
            "text/plain": [
              "       id     power                          full name\n",
              "0   27403  4.157330            Руссо Максим Михайлович\n",
              "1    4270  4.030017     Брутер Александра Владимировна\n",
              "2   28751  3.985443            Семушин Иван Николаевич\n",
              "3   27822  3.896333      Савченков Михаил Владимирович\n",
              "4   30270  3.816866          Спешков Сергей Леонидович\n",
              "5   30152  3.816201           Сорожкин Артём Сергеевич\n",
              "6   20691  3.698418  Мереминский Станислав Григорьевич\n",
              "7   18036  3.642617          Левандовский Михаил Ильич\n",
              "8   26089  3.599003         Прокофьева Ирина Сергеевна\n",
              "9   22799  3.581302          Николенко Сергей Игоревич\n",
              "10  22935  3.551134             Новиков Илья Сергеевич\n",
              "11  87637  3.550839        Саксонов Антон Владимирович\n",
              "12  18332  3.534595         Либер Александр Витальевич\n",
              "13  74001  3.512883             Мокин Игорь Викторович\n",
              "14  21698  3.510725     Мосягин Александр Владимирович\n",
              "15   7008  3.501851         Гилёв Алексей Владимирович\n",
              "16  34328  3.498378             Царёв Михаил Сергеевич\n",
              "17  13689  3.494133      Карякин Дмитрий Александрович\n",
              "18  19915  3.491580        Марков Александр Валерьевич\n",
              "19  56647  3.483722        Горелова Наталья Евгеньевна"
            ],
            "text/html": [
              "\n",
              "  <div id=\"df-6700f494-1f64-472a-8e39-f5dbfb22a44e\">\n",
              "    <div class=\"colab-df-container\">\n",
              "      <div>\n",
              "<style scoped>\n",
              "    .dataframe tbody tr th:only-of-type {\n",
              "        vertical-align: middle;\n",
              "    }\n",
              "\n",
              "    .dataframe tbody tr th {\n",
              "        vertical-align: top;\n",
              "    }\n",
              "\n",
              "    .dataframe thead th {\n",
              "        text-align: right;\n",
              "    }\n",
              "</style>\n",
              "<table border=\"1\" class=\"dataframe\">\n",
              "  <thead>\n",
              "    <tr style=\"text-align: right;\">\n",
              "      <th></th>\n",
              "      <th>id</th>\n",
              "      <th>power</th>\n",
              "      <th>full name</th>\n",
              "    </tr>\n",
              "  </thead>\n",
              "  <tbody>\n",
              "    <tr>\n",
              "      <th>0</th>\n",
              "      <td>27403</td>\n",
              "      <td>4.157330</td>\n",
              "      <td>Руссо Максим Михайлович</td>\n",
              "    </tr>\n",
              "    <tr>\n",
              "      <th>1</th>\n",
              "      <td>4270</td>\n",
              "      <td>4.030017</td>\n",
              "      <td>Брутер Александра Владимировна</td>\n",
              "    </tr>\n",
              "    <tr>\n",
              "      <th>2</th>\n",
              "      <td>28751</td>\n",
              "      <td>3.985443</td>\n",
              "      <td>Семушин Иван Николаевич</td>\n",
              "    </tr>\n",
              "    <tr>\n",
              "      <th>3</th>\n",
              "      <td>27822</td>\n",
              "      <td>3.896333</td>\n",
              "      <td>Савченков Михаил Владимирович</td>\n",
              "    </tr>\n",
              "    <tr>\n",
              "      <th>4</th>\n",
              "      <td>30270</td>\n",
              "      <td>3.816866</td>\n",
              "      <td>Спешков Сергей Леонидович</td>\n",
              "    </tr>\n",
              "    <tr>\n",
              "      <th>5</th>\n",
              "      <td>30152</td>\n",
              "      <td>3.816201</td>\n",
              "      <td>Сорожкин Артём Сергеевич</td>\n",
              "    </tr>\n",
              "    <tr>\n",
              "      <th>6</th>\n",
              "      <td>20691</td>\n",
              "      <td>3.698418</td>\n",
              "      <td>Мереминский Станислав Григорьевич</td>\n",
              "    </tr>\n",
              "    <tr>\n",
              "      <th>7</th>\n",
              "      <td>18036</td>\n",
              "      <td>3.642617</td>\n",
              "      <td>Левандовский Михаил Ильич</td>\n",
              "    </tr>\n",
              "    <tr>\n",
              "      <th>8</th>\n",
              "      <td>26089</td>\n",
              "      <td>3.599003</td>\n",
              "      <td>Прокофьева Ирина Сергеевна</td>\n",
              "    </tr>\n",
              "    <tr>\n",
              "      <th>9</th>\n",
              "      <td>22799</td>\n",
              "      <td>3.581302</td>\n",
              "      <td>Николенко Сергей Игоревич</td>\n",
              "    </tr>\n",
              "    <tr>\n",
              "      <th>10</th>\n",
              "      <td>22935</td>\n",
              "      <td>3.551134</td>\n",
              "      <td>Новиков Илья Сергеевич</td>\n",
              "    </tr>\n",
              "    <tr>\n",
              "      <th>11</th>\n",
              "      <td>87637</td>\n",
              "      <td>3.550839</td>\n",
              "      <td>Саксонов Антон Владимирович</td>\n",
              "    </tr>\n",
              "    <tr>\n",
              "      <th>12</th>\n",
              "      <td>18332</td>\n",
              "      <td>3.534595</td>\n",
              "      <td>Либер Александр Витальевич</td>\n",
              "    </tr>\n",
              "    <tr>\n",
              "      <th>13</th>\n",
              "      <td>74001</td>\n",
              "      <td>3.512883</td>\n",
              "      <td>Мокин Игорь Викторович</td>\n",
              "    </tr>\n",
              "    <tr>\n",
              "      <th>14</th>\n",
              "      <td>21698</td>\n",
              "      <td>3.510725</td>\n",
              "      <td>Мосягин Александр Владимирович</td>\n",
              "    </tr>\n",
              "    <tr>\n",
              "      <th>15</th>\n",
              "      <td>7008</td>\n",
              "      <td>3.501851</td>\n",
              "      <td>Гилёв Алексей Владимирович</td>\n",
              "    </tr>\n",
              "    <tr>\n",
              "      <th>16</th>\n",
              "      <td>34328</td>\n",
              "      <td>3.498378</td>\n",
              "      <td>Царёв Михаил Сергеевич</td>\n",
              "    </tr>\n",
              "    <tr>\n",
              "      <th>17</th>\n",
              "      <td>13689</td>\n",
              "      <td>3.494133</td>\n",
              "      <td>Карякин Дмитрий Александрович</td>\n",
              "    </tr>\n",
              "    <tr>\n",
              "      <th>18</th>\n",
              "      <td>19915</td>\n",
              "      <td>3.491580</td>\n",
              "      <td>Марков Александр Валерьевич</td>\n",
              "    </tr>\n",
              "    <tr>\n",
              "      <th>19</th>\n",
              "      <td>56647</td>\n",
              "      <td>3.483722</td>\n",
              "      <td>Горелова Наталья Евгеньевна</td>\n",
              "    </tr>\n",
              "  </tbody>\n",
              "</table>\n",
              "</div>\n",
              "      <button class=\"colab-df-convert\" onclick=\"convertToInteractive('df-6700f494-1f64-472a-8e39-f5dbfb22a44e')\"\n",
              "              title=\"Convert this dataframe to an interactive table.\"\n",
              "              style=\"display:none;\">\n",
              "        \n",
              "  <svg xmlns=\"http://www.w3.org/2000/svg\" height=\"24px\"viewBox=\"0 0 24 24\"\n",
              "       width=\"24px\">\n",
              "    <path d=\"M0 0h24v24H0V0z\" fill=\"none\"/>\n",
              "    <path d=\"M18.56 5.44l.94 2.06.94-2.06 2.06-.94-2.06-.94-.94-2.06-.94 2.06-2.06.94zm-11 1L8.5 8.5l.94-2.06 2.06-.94-2.06-.94L8.5 2.5l-.94 2.06-2.06.94zm10 10l.94 2.06.94-2.06 2.06-.94-2.06-.94-.94-2.06-.94 2.06-2.06.94z\"/><path d=\"M17.41 7.96l-1.37-1.37c-.4-.4-.92-.59-1.43-.59-.52 0-1.04.2-1.43.59L10.3 9.45l-7.72 7.72c-.78.78-.78 2.05 0 2.83L4 21.41c.39.39.9.59 1.41.59.51 0 1.02-.2 1.41-.59l7.78-7.78 2.81-2.81c.8-.78.8-2.07 0-2.86zM5.41 20L4 18.59l7.72-7.72 1.47 1.35L5.41 20z\"/>\n",
              "  </svg>\n",
              "      </button>\n",
              "      \n",
              "  <style>\n",
              "    .colab-df-container {\n",
              "      display:flex;\n",
              "      flex-wrap:wrap;\n",
              "      gap: 12px;\n",
              "    }\n",
              "\n",
              "    .colab-df-convert {\n",
              "      background-color: #E8F0FE;\n",
              "      border: none;\n",
              "      border-radius: 50%;\n",
              "      cursor: pointer;\n",
              "      display: none;\n",
              "      fill: #1967D2;\n",
              "      height: 32px;\n",
              "      padding: 0 0 0 0;\n",
              "      width: 32px;\n",
              "    }\n",
              "\n",
              "    .colab-df-convert:hover {\n",
              "      background-color: #E2EBFA;\n",
              "      box-shadow: 0px 1px 2px rgba(60, 64, 67, 0.3), 0px 1px 3px 1px rgba(60, 64, 67, 0.15);\n",
              "      fill: #174EA6;\n",
              "    }\n",
              "\n",
              "    [theme=dark] .colab-df-convert {\n",
              "      background-color: #3B4455;\n",
              "      fill: #D2E3FC;\n",
              "    }\n",
              "\n",
              "    [theme=dark] .colab-df-convert:hover {\n",
              "      background-color: #434B5C;\n",
              "      box-shadow: 0px 1px 3px 1px rgba(0, 0, 0, 0.15);\n",
              "      filter: drop-shadow(0px 1px 2px rgba(0, 0, 0, 0.3));\n",
              "      fill: #FFFFFF;\n",
              "    }\n",
              "  </style>\n",
              "\n",
              "      <script>\n",
              "        const buttonEl =\n",
              "          document.querySelector('#df-6700f494-1f64-472a-8e39-f5dbfb22a44e button.colab-df-convert');\n",
              "        buttonEl.style.display =\n",
              "          google.colab.kernel.accessAllowed ? 'block' : 'none';\n",
              "\n",
              "        async function convertToInteractive(key) {\n",
              "          const element = document.querySelector('#df-6700f494-1f64-472a-8e39-f5dbfb22a44e');\n",
              "          const dataTable =\n",
              "            await google.colab.kernel.invokeFunction('convertToInteractive',\n",
              "                                                     [key], {});\n",
              "          if (!dataTable) return;\n",
              "\n",
              "          const docLinkHtml = 'Like what you see? Visit the ' +\n",
              "            '<a target=\"_blank\" href=https://colab.research.google.com/notebooks/data_table.ipynb>data table notebook</a>'\n",
              "            + ' to learn more about interactive tables.';\n",
              "          element.innerHTML = '';\n",
              "          dataTable['output_type'] = 'display_data';\n",
              "          await google.colab.output.renderOutput(dataTable, element);\n",
              "          const docLink = document.createElement('div');\n",
              "          docLink.innerHTML = docLinkHtml;\n",
              "          element.appendChild(docLink);\n",
              "        }\n",
              "      </script>\n",
              "    </div>\n",
              "  </div>\n",
              "  "
            ]
          },
          "metadata": {},
          "execution_count": 26
        }
      ]
    },
    {
      "cell_type": "markdown",
      "source": [
        "Посмотрим на рейтинг с сайта на начало января 2020 года. "
      ],
      "metadata": {
        "id": "fFBiXzp9SZ5R"
      }
    },
    {
      "cell_type": "markdown",
      "source": [
        "![Screenshot 2022-04-10 at 22-19-17 Игроки - Официальный рейтинг сообщества знатоков.png](data:image/png;base64,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)"
      ],
      "metadata": {
        "id": "Rm2OjtU_6vtv"
      }
    },
    {
      "cell_type": "markdown",
      "source": [
        "Получилось довольно похоже. У меня была мысль, что вообще нужно взять с сайта рейтинг, как если бы все начали играть в 2019 году, как в нашем трейне, но рейтинг на сайте рассчитывается не тривиально. Не стала развивать дальше эту идею."
      ],
      "metadata": {
        "id": "p2bhWePQhVYy"
      }
    },
    {
      "cell_type": "markdown",
      "source": [
        "\n",
        "**3. Качество рейтинг-системы оценивается качеством предсказаний результатов турниров. Но сами повопросные результаты наши модели предсказывать вряд ли смогут, ведь неизвестно, насколько сложными окажутся вопросы в будущих турнирах; да и не нужны эти предсказания сами по себе. Поэтому:**\n",
        "\n",
        "\n",
        "**- предложите способ предсказать результаты нового турнира с известными составами, но неизвестными вопросами, в виде ранжирования команд;**\n",
        "\n",
        "**- в качестве метрики качества на тестовом наборе давайте считать ранговые корреляции Спирмена и Кендалла (их можно взять в пакете scipy) между реальным ранжированием в результатах турнира и предсказанным моделью, усреднённые по тестовому множеству турниров**\n"
      ],
      "metadata": {
        "id": "YguKPVy8LY3M"
      }
    },
    {
      "cell_type": "markdown",
      "source": [
        "Первая мысль - раз мы получили уже силу игроков в численном виде, то ей легко оперировать для сравнения сил команд. Я решила взять просто сумму этих сил для каждой команды и ранжировать по сумме. (Возможно, стоило бы смотреть медианы, но решила попробовать так)"
      ],
      "metadata": {
        "id": "IN6vI5rGTxAo"
      }
    },
    {
      "cell_type": "code",
      "source": [
        "def game_ranks(participants, team_list, power):\n",
        "  teams_power = {}\n",
        "  for team in participants:\n",
        "    cur_team_power = 0\n",
        "    for player in team_list[team]:\n",
        "      if (power['id']==player).any():\n",
        "        cur_team_power += power[power[\"id\"] == player].iloc[0]['power']\n",
        "      else:\n",
        "        cur_team_power += 0\n",
        "        #здесь есть простор для рассуждений, новый игрок команды будет ли силы 0 или скорее какой-то доли от средней силы команды..\n",
        "    teams_power[team] = cur_team_power\n",
        "\n",
        "  sorted_teams = sorted(teams_power, key=teams_power.get, reverse=True) \n",
        "  predicted_ranks = [sorted_teams.index(i) + 1 for i in participants]\n",
        "  return predicted_ranks"
      ],
      "metadata": {
        "id": "pYhtq-zUMVqm"
      },
      "execution_count": null,
      "outputs": []
    },
    {
      "cell_type": "code",
      "source": [
        "from scipy.stats import spearmanr\n",
        "from scipy.stats import kendalltau"
      ],
      "metadata": {
        "id": "EJWdCbmYTKXN"
      },
      "execution_count": null,
      "outputs": []
    },
    {
      "cell_type": "code",
      "source": [
        "def spearm_kend(tournaments_idxs, results, ranks_func):\n",
        "  spearm = []\n",
        "  kend = []\n",
        "  for tournament in tournaments_idxs:\n",
        "    team_result ={}\n",
        "    team_list = {}\n",
        "    for team in results[tournament]:\n",
        "      team_result[team[\"current\"][\"name\"]] = team[\"position\"]\n",
        "      team_list[team[\"current\"][\"name\"]] = [i[\"player\"][\"id\"] for i in team[\"teamMembers\"]]\n",
        "\n",
        "    sorted_teams = sorted(team_result, key=team_result.get) \n",
        "    predicted_ranks = ranks_func(sorted_teams, team_list, power)\n",
        "    \n",
        "    ranks = [team_result[i] for i in sorted_teams]\n",
        "    corr_s, _ = spearmanr(predicted_ranks, ranks)\n",
        "    corr_k, _ = kendalltau(predicted_ranks, ranks)\n",
        "\n",
        "    spearm.append(corr_s)\n",
        "    kend.append(corr_k)\n",
        "\n",
        "  spearm = np.array(spearm)\n",
        "  kend = np.array(kend)\n",
        "  spearm = spearm[~np.isnan(spearm)]  \n",
        "  kend = kend[~np.isnan(kend)]\n",
        "\n",
        "  return np.mean(spearm), np.mean(kend)"
      ],
      "metadata": {
        "id": "7A0zaEokUr4J"
      },
      "execution_count": null,
      "outputs": []
    },
    {
      "cell_type": "code",
      "source": [
        "corr = spearm_kend(tournaments_test_idxs, results, game_ranks)\n",
        "print(\"Корреляция Спирмена: \", corr[0])\n",
        "print(\"Корреляция Кенделла: \", corr[1])"
      ],
      "metadata": {
        "colab": {
          "base_uri": "https://localhost:8080/"
        },
        "id": "EyStbjXTVhLP",
        "outputId": "686e884b-8e9b-4997-d5b9-8a40e1f249a0"
      },
      "execution_count": null,
      "outputs": [
        {
          "output_type": "stream",
          "name": "stdout",
          "text": [
            "Корреляция Спирмена:  0.7786392754768656\n",
            "Корреляция Кенделла:  0.6245885870615423\n"
          ]
        }
      ]
    },
    {
      "cell_type": "markdown",
      "source": [
        "Сначала я удовлетворилась этим результатом, но, перейдя к 4му пункту, поняла, что необходимо было перейти к вероятностям. Ранжируем команды по вероятности ответа на какой-то абстрактный вопрос, сложность которого нам, кажется, не предположить. Вероятность ответа команды - вероятность, что хоть один игрок команды ответит правильно, то есть 1 минус вероятность, что все ответят неправильно."
      ],
      "metadata": {
        "id": "c9dUDE_-xzK3"
      }
    },
    {
      "cell_type": "markdown",
      "source": [
        "Вероятность игрока ответить на средний вопрос = сигма(вес игрока + вес ср вопроса + константа)"
      ],
      "metadata": {
        "id": "_wosqvMl0WMv"
      }
    },
    {
      "cell_type": "code",
      "source": [
        "q_mean = np.mean(np.array(lr.coef_[0][len(train_players):]))\n",
        "b = float(lr.intercept_)"
      ],
      "metadata": {
        "id": "GV6A77rd0k1T"
      },
      "execution_count": null,
      "outputs": []
    },
    {
      "cell_type": "code",
      "source": [
        "power[\"proba\"] = 1 / (1 + np.exp(-power[\"power\"] - q_mean - b))"
      ],
      "metadata": {
        "id": "S8RRbDiu05I6"
      },
      "execution_count": null,
      "outputs": []
    },
    {
      "cell_type": "code",
      "source": [
        "power"
      ],
      "metadata": {
        "colab": {
          "base_uri": "https://localhost:8080/",
          "height": 424
        },
        "id": "ToyiNn7GAlfF",
        "outputId": "b2838cb6-7944-4cc1-c5c6-191442dca857"
      },
      "execution_count": null,
      "outputs": [
        {
          "output_type": "execute_result",
          "data": {
            "text/plain": [
              "           id     power     proba\n",
              "0          15  0.753695  0.289237\n",
              "1          16  1.594585  0.485454\n",
              "2          23  1.132959  0.372893\n",
              "3          31  1.129964  0.372192\n",
              "4          35  1.110672  0.367696\n",
              "...       ...       ...       ...\n",
              "56932  224404 -0.863619  0.074716\n",
              "56933  224408 -0.168797  0.139244\n",
              "56934  224482 -0.523658  0.101886\n",
              "56935  224539  0.846893  0.308766\n",
              "56936  224542  1.502730  0.462556\n",
              "\n",
              "[56937 rows x 3 columns]"
            ],
            "text/html": [
              "\n",
              "  <div id=\"df-96573417-e793-411c-8fa2-2192236afae1\">\n",
              "    <div class=\"colab-df-container\">\n",
              "      <div>\n",
              "<style scoped>\n",
              "    .dataframe tbody tr th:only-of-type {\n",
              "        vertical-align: middle;\n",
              "    }\n",
              "\n",
              "    .dataframe tbody tr th {\n",
              "        vertical-align: top;\n",
              "    }\n",
              "\n",
              "    .dataframe thead th {\n",
              "        text-align: right;\n",
              "    }\n",
              "</style>\n",
              "<table border=\"1\" class=\"dataframe\">\n",
              "  <thead>\n",
              "    <tr style=\"text-align: right;\">\n",
              "      <th></th>\n",
              "      <th>id</th>\n",
              "      <th>power</th>\n",
              "      <th>proba</th>\n",
              "    </tr>\n",
              "  </thead>\n",
              "  <tbody>\n",
              "    <tr>\n",
              "      <th>0</th>\n",
              "      <td>15</td>\n",
              "      <td>0.753695</td>\n",
              "      <td>0.289237</td>\n",
              "    </tr>\n",
              "    <tr>\n",
              "      <th>1</th>\n",
              "      <td>16</td>\n",
              "      <td>1.594585</td>\n",
              "      <td>0.485454</td>\n",
              "    </tr>\n",
              "    <tr>\n",
              "      <th>2</th>\n",
              "      <td>23</td>\n",
              "      <td>1.132959</td>\n",
              "      <td>0.372893</td>\n",
              "    </tr>\n",
              "    <tr>\n",
              "      <th>3</th>\n",
              "      <td>31</td>\n",
              "      <td>1.129964</td>\n",
              "      <td>0.372192</td>\n",
              "    </tr>\n",
              "    <tr>\n",
              "      <th>4</th>\n",
              "      <td>35</td>\n",
              "      <td>1.110672</td>\n",
              "      <td>0.367696</td>\n",
              "    </tr>\n",
              "    <tr>\n",
              "      <th>...</th>\n",
              "      <td>...</td>\n",
              "      <td>...</td>\n",
              "      <td>...</td>\n",
              "    </tr>\n",
              "    <tr>\n",
              "      <th>56932</th>\n",
              "      <td>224404</td>\n",
              "      <td>-0.863619</td>\n",
              "      <td>0.074716</td>\n",
              "    </tr>\n",
              "    <tr>\n",
              "      <th>56933</th>\n",
              "      <td>224408</td>\n",
              "      <td>-0.168797</td>\n",
              "      <td>0.139244</td>\n",
              "    </tr>\n",
              "    <tr>\n",
              "      <th>56934</th>\n",
              "      <td>224482</td>\n",
              "      <td>-0.523658</td>\n",
              "      <td>0.101886</td>\n",
              "    </tr>\n",
              "    <tr>\n",
              "      <th>56935</th>\n",
              "      <td>224539</td>\n",
              "      <td>0.846893</td>\n",
              "      <td>0.308766</td>\n",
              "    </tr>\n",
              "    <tr>\n",
              "      <th>56936</th>\n",
              "      <td>224542</td>\n",
              "      <td>1.502730</td>\n",
              "      <td>0.462556</td>\n",
              "    </tr>\n",
              "  </tbody>\n",
              "</table>\n",
              "<p>56937 rows × 3 columns</p>\n",
              "</div>\n",
              "      <button class=\"colab-df-convert\" onclick=\"convertToInteractive('df-96573417-e793-411c-8fa2-2192236afae1')\"\n",
              "              title=\"Convert this dataframe to an interactive table.\"\n",
              "              style=\"display:none;\">\n",
              "        \n",
              "  <svg xmlns=\"http://www.w3.org/2000/svg\" height=\"24px\"viewBox=\"0 0 24 24\"\n",
              "       width=\"24px\">\n",
              "    <path d=\"M0 0h24v24H0V0z\" fill=\"none\"/>\n",
              "    <path d=\"M18.56 5.44l.94 2.06.94-2.06 2.06-.94-2.06-.94-.94-2.06-.94 2.06-2.06.94zm-11 1L8.5 8.5l.94-2.06 2.06-.94-2.06-.94L8.5 2.5l-.94 2.06-2.06.94zm10 10l.94 2.06.94-2.06 2.06-.94-2.06-.94-.94-2.06-.94 2.06-2.06.94z\"/><path d=\"M17.41 7.96l-1.37-1.37c-.4-.4-.92-.59-1.43-.59-.52 0-1.04.2-1.43.59L10.3 9.45l-7.72 7.72c-.78.78-.78 2.05 0 2.83L4 21.41c.39.39.9.59 1.41.59.51 0 1.02-.2 1.41-.59l7.78-7.78 2.81-2.81c.8-.78.8-2.07 0-2.86zM5.41 20L4 18.59l7.72-7.72 1.47 1.35L5.41 20z\"/>\n",
              "  </svg>\n",
              "      </button>\n",
              "      \n",
              "  <style>\n",
              "    .colab-df-container {\n",
              "      display:flex;\n",
              "      flex-wrap:wrap;\n",
              "      gap: 12px;\n",
              "    }\n",
              "\n",
              "    .colab-df-convert {\n",
              "      background-color: #E8F0FE;\n",
              "      border: none;\n",
              "      border-radius: 50%;\n",
              "      cursor: pointer;\n",
              "      display: none;\n",
              "      fill: #1967D2;\n",
              "      height: 32px;\n",
              "      padding: 0 0 0 0;\n",
              "      width: 32px;\n",
              "    }\n",
              "\n",
              "    .colab-df-convert:hover {\n",
              "      background-color: #E2EBFA;\n",
              "      box-shadow: 0px 1px 2px rgba(60, 64, 67, 0.3), 0px 1px 3px 1px rgba(60, 64, 67, 0.15);\n",
              "      fill: #174EA6;\n",
              "    }\n",
              "\n",
              "    [theme=dark] .colab-df-convert {\n",
              "      background-color: #3B4455;\n",
              "      fill: #D2E3FC;\n",
              "    }\n",
              "\n",
              "    [theme=dark] .colab-df-convert:hover {\n",
              "      background-color: #434B5C;\n",
              "      box-shadow: 0px 1px 3px 1px rgba(0, 0, 0, 0.15);\n",
              "      filter: drop-shadow(0px 1px 2px rgba(0, 0, 0, 0.3));\n",
              "      fill: #FFFFFF;\n",
              "    }\n",
              "  </style>\n",
              "\n",
              "      <script>\n",
              "        const buttonEl =\n",
              "          document.querySelector('#df-96573417-e793-411c-8fa2-2192236afae1 button.colab-df-convert');\n",
              "        buttonEl.style.display =\n",
              "          google.colab.kernel.accessAllowed ? 'block' : 'none';\n",
              "\n",
              "        async function convertToInteractive(key) {\n",
              "          const element = document.querySelector('#df-96573417-e793-411c-8fa2-2192236afae1');\n",
              "          const dataTable =\n",
              "            await google.colab.kernel.invokeFunction('convertToInteractive',\n",
              "                                                     [key], {});\n",
              "          if (!dataTable) return;\n",
              "\n",
              "          const docLinkHtml = 'Like what you see? Visit the ' +\n",
              "            '<a target=\"_blank\" href=https://colab.research.google.com/notebooks/data_table.ipynb>data table notebook</a>'\n",
              "            + ' to learn more about interactive tables.';\n",
              "          element.innerHTML = '';\n",
              "          dataTable['output_type'] = 'display_data';\n",
              "          await google.colab.output.renderOutput(dataTable, element);\n",
              "          const docLink = document.createElement('div');\n",
              "          docLink.innerHTML = docLinkHtml;\n",
              "          element.appendChild(docLink);\n",
              "        }\n",
              "      </script>\n",
              "    </div>\n",
              "  </div>\n",
              "  "
            ]
          },
          "metadata": {},
          "execution_count": 25
        }
      ]
    },
    {
      "cell_type": "code",
      "source": [
        "def game_ranks_proba(participants, team_list, power):\n",
        "  teams_power = {}\n",
        "  for team in participants:\n",
        "    cur_team_proba = 1\n",
        "    for player in team_list[team]:\n",
        "      if (power['id']==player).any():\n",
        "        cur_team_proba *= 1 - power[power[\"id\"] == player].iloc[0]['proba']\n",
        "        \n",
        "      # else:\n",
        "      #    cur_team_proba *= 0.5\n",
        "      # сначала хотела предположить, что для неизвестного игрока вероятность 0.5\n",
        "      # но результат вышел хуже, убрала эту ветку\n",
        "\n",
        "    teams_power[team] = 1 - cur_team_proba\n",
        "\n",
        "  sorted_teams = sorted(teams_power, key=teams_power.get, reverse=True) \n",
        "  predicted_ranks = [sorted_teams.index(i) + 1 for i in participants]\n",
        "  return predicted_ranks"
      ],
      "metadata": {
        "id": "wPeVldpz1f2h"
      },
      "execution_count": null,
      "outputs": []
    },
    {
      "cell_type": "code",
      "source": [
        "corr = spearm_kend(tournaments_test_idxs, results, game_ranks_proba)\n",
        "print(\"Корреляция Спирмена: \", corr[0])\n",
        "print(\"Корреляция Кенделла: \", corr[1])"
      ],
      "metadata": {
        "colab": {
          "base_uri": "https://localhost:8080/"
        },
        "id": "LCCWjHktXdi4",
        "outputId": "c2f265e5-1d01-4c7f-b1f8-f4a68383bedd"
      },
      "execution_count": null,
      "outputs": [
        {
          "output_type": "stream",
          "name": "stdout",
          "text": [
            "Корреляция Спирмена:  0.8091314548247555\n",
            "Корреляция Кенделла:  0.653430877259729\n"
          ]
        }
      ]
    },
    {
      "cell_type": "markdown",
      "source": [
        "Результат вышел лучше, чем с обычной суммой. Даже волнительно, не слишком ли высокий. "
      ],
      "metadata": {
        "id": "h9LihyGaYKQ8"
      }
    },
    {
      "cell_type": "markdown",
      "source": [
        "**4. Теперь главное: ЧГК — это всё-таки командная игра. Поэтому:**\n",
        "\n",
        "\n",
        "**-предложите способ учитывать то, что на вопрос отвечают сразу несколько игроков; скорее всего, понадобятся скрытые переменные;**\n",
        "\n",
        "**-не стесняйтесь делать упрощающие предположения, но теперь переменные “игрок X ответил на вопрос Y” при условии данных должны стать зависимыми для игроков одной и той же команды;**\n",
        "\n",
        "**- разработайте EM-схему для обучения этой модели, реализуйте её в коде;**\n",
        "\n",
        "**- обучите несколько итераций, убедитесь, что целевые метрики со временем растут (скорее всего, ненамного, но расти должны), выберите лучшую модель, используя целевые метрики**\n",
        "\n"
      ],
      "metadata": {
        "id": "mgNkhmG-THaE"
      }
    },
    {
      "cell_type": "markdown",
      "source": [
        "Е - шаг - вычисление ожидаемого значения вектора скрытых переменных, то есть вероятность игрока лично ответить на вопрос. \n",
        "\n",
        "М - шаг - максимизация правдоподобия и нахождение следующего приближения, в нашем случае - обучение модели по текущей вероятности ответа игрока на вопрос.\n",
        "\n",
        "Изначально вероятность ответа игрока будем брать из бейзлайн модели "
      ],
      "metadata": {
        "id": "Y9cfhVGEsdq-"
      }
    },
    {
      "cell_type": "markdown",
      "source": [
        "Как упрощающие предположения для формирования значений скрытой переменной, можно постановить, что если команда, в которой играет игрок, не ответила на вопрос, то и вероятность игрока лично ответить - 0. (Вообще, тут я колебалась, тк есть ситуации, когда у команды в ходе обсуждения возникает правильный ответ, но капитан выбирает другой. Но спишем на эту же переменную вероятности и \"умение надавить на капитана\", как фактор успеха :) )"
      ],
      "metadata": {
        "id": "Q9acpDqvahor"
      }
    },
    {
      "cell_type": "markdown",
      "source": [
        "$$ p(z=1 |t_a=0) = 0 $$"
      ],
      "metadata": {
        "id": "m1KGv4xocIcZ"
      }
    },
    {
      "cell_type": "markdown",
      "source": [
        "$$ p(z=1 |t_a=1) = \\frac{p(t_a=1|z=1)*p(z=1)}{p(t_a)=1} $$"
      ],
      "metadata": {
        "id": "-0fBCQ7zcUWY"
      }
    },
    {
      "cell_type": "markdown",
      "source": [
        "Здесь так же сразу становится заметно еще одно упрощение: вероятность команды ответить правильно, если игрок ответил правильно (в нашем допущении идеальности капитана:) ) - 1. И формулу можно упростить. "
      ],
      "metadata": {
        "id": "dnCtLk3rc8zO"
      }
    },
    {
      "cell_type": "markdown",
      "source": [
        "$$ p(z=1 |t_a=1) = \\frac{1*p(z=1)}{p(t_a)=1} $$"
      ],
      "metadata": {
        "id": "IaPA2Xw1dXCI"
      }
    },
    {
      "cell_type": "markdown",
      "source": [
        "Вероятность p(z=1) это вероятность ответа игрока лично, которую мы сначала берем на основе бейзлайна, а далее предсказываем на М-шаге\n",
        "\n",
        "Вероятность p(t_a)=1 это та же история, что в пункте 3, рассмотренном через призму вероятностей (как раз в этот момент я поняла, что нужно вернуться к 3му пункту и реализовать ранжирование команд через вероятности игроков): Вероятность ответа команды - вероятность, что хоть один игрок команды ответит правильно, то есть 1 минус вероятность, что все ответят неправильно."
      ],
      "metadata": {
        "id": "tyWgBP6qdcF5"
      }
    },
    {
      "cell_type": "markdown",
      "source": [
        "Тут я поняла, что не правильно изначально организовала данные, так как информация о том, в какой команде играл игрок в момент ответа на тот или иной вопрос к этому месту утеряна, и считала всё не самым эффективным образом. Моральных сил переделать принципиально схему данных не было, пришлось вернуться в начало городить костыли в виде доп таблиц."
      ],
      "metadata": {
        "id": "Iw8anYZ78mB-"
      }
    },
    {
      "cell_type": "markdown",
      "source": [
        "Изначально пыталась для M-шага использовать логистическую регрессию, но не смогла победить ошибки в процессе реализации и взяла линейную."
      ],
      "metadata": {
        "id": "MxaexBQ5wwZ-"
      }
    },
    {
      "cell_type": "code",
      "source": [
        "from sklearn.linear_model import LinearRegression"
      ],
      "metadata": {
        "id": "ooCluFAarshk"
      },
      "execution_count": null,
      "outputs": []
    },
    {
      "cell_type": "code",
      "source": [
        "def power_update(model):\n",
        "  power = pd.DataFrame({\"id\": train_players, \"power\": model.coef_[:len(train_players)]})\n",
        "  q_mean = np.mean(np.array(model.coef_[len(train_players):]))\n",
        "  b = float(model.intercept_)\n",
        "  power[\"proba\"] = 1 / (1 + np.exp(-power[\"power\"] - q_mean - b))\n",
        "  return power"
      ],
      "metadata": {
        "id": "3bONMT5vhldu"
      },
      "execution_count": null,
      "outputs": []
    },
    {
      "cell_type": "code",
      "source": [
        "def m_step(z):\n",
        "  model = LinearRegression(n_jobs=-1)\n",
        "  model.fit(X_train, np.log(z/(1-z)))\n",
        "  p_z = model.predict(X_train)\n",
        "\n",
        "  return 1/(1+np.exp(-p_z)), model"
      ],
      "metadata": {
        "id": "fc3pPEXapQXm"
      },
      "execution_count": null,
      "outputs": []
    },
    {
      "cell_type": "code",
      "source": [
        "def e_step(p_z, team_data):\n",
        "  team_data[\"proba\"] = p_z * y_train\n",
        "  team_data[\"proba_0\"] = 1 - p_z\n",
        "  z = (team_data[\"proba\"]/(1 - team_data.groupby([\"team_id\", \"quest_id\"])[\"proba_0\"].transform('prod')))*team_data[\"answer\"]\n",
        "  z = np.clip(z, 1e-5, 1-1e-5)\n",
        "  return z\n"
      ],
      "metadata": {
        "id": "Vw33ktvhmJ-1"
      },
      "execution_count": null,
      "outputs": []
    },
    {
      "cell_type": "code",
      "source": [
        "z0 = lr.predict_proba(X_train)[:, 1] * y_train\n"
      ],
      "metadata": {
        "id": "cVDDif2OB2j8"
      },
      "execution_count": null,
      "outputs": []
    },
    {
      "cell_type": "code",
      "source": [
        "# появлялась ошибка ValueError: Input contains NaN, infinity or a value too large for dtype('float64').\n",
        "print(np.all(np.isfinite(z0)))\n",
        "print(np.any(np.isnan(z0)))\n",
        "print(np.max(z0))\n",
        "print(np.min(z0))"
      ],
      "metadata": {
        "colab": {
          "base_uri": "https://localhost:8080/"
        },
        "id": "LT3T5Jwe406h",
        "outputId": "d8144d5a-a5ee-4664-9c4a-d3de6afe9076"
      },
      "execution_count": null,
      "outputs": [
        {
          "output_type": "stream",
          "name": "stdout",
          "text": [
            "True\n",
            "False\n",
            "0.9995855070731469\n",
            "0.0\n"
          ]
        }
      ]
    },
    {
      "cell_type": "markdown",
      "source": [
        "В итоге поняла, что ошибка происходит в момент взятия логарифма от 0 и 1. Модифицирую допущение про вероятность игрока ответить 0. Тем более вспоминая про ошибку капитана, это вообще звучит логично."
      ],
      "metadata": {
        "id": "PPeBhEzT7Yyr"
      }
    },
    {
      "cell_type": "code",
      "source": [
        "z0 = np.clip(z0, 1e-5, 1-1e-5)"
      ],
      "metadata": {
        "id": "YSwRDMHQ8nT-"
      },
      "execution_count": null,
      "outputs": []
    },
    {
      "cell_type": "code",
      "source": [
        "p_z, model = m_step(z0)\n",
        "for i in range(5):\n",
        "  z = e_step(p_z, team_data)\n",
        "  p_z, model = m_step(z)\n",
        "  power = power_update(model)\n",
        "  corr = spearm_kend(tournaments_test_idxs, results, game_ranks_proba)\n",
        "  print(\"Шаг\", i + 2)\n",
        "  print(\"Корреляция Спирмена: \", corr[0])\n",
        "  print(\"Корреляция Кенделла: \", corr[1])\n"
      ],
      "metadata": {
        "colab": {
          "base_uri": "https://localhost:8080/"
        },
        "id": "nhOdFihpmkvG",
        "outputId": "aad5c1c1-9920-4fbe-86f7-51fef10f45d3"
      },
      "execution_count": null,
      "outputs": [
        {
          "output_type": "stream",
          "name": "stdout",
          "text": [
            "Шаг 2\n",
            "Корреляция Спирмена:  0.8151493543540692\n",
            "Корреляция Кенделла:  0.6604747078090737\n",
            "Шаг 3\n",
            "Корреляция Спирмена:  0.8181017155501455\n",
            "Корреляция Кенделла:  0.6644801158256584\n",
            "Шаг 4\n",
            "Корреляция Спирмена:  0.8188342152811385\n",
            "Корреляция Кенделла:  0.665493302376743\n",
            "Шаг 5\n",
            "Корреляция Спирмена:  0.8186336517076042\n",
            "Корреляция Кенделла:  0.6656854166815582\n",
            "Шаг 6\n",
            "Корреляция Спирмена:  0.8183846158402307\n",
            "Корреляция Кенделла:  0.6655148669456116\n"
          ]
        }
      ]
    },
    {
      "cell_type": "markdown",
      "source": [
        "Относительно бейзлайна прирост не большой, но он есть! Рада этому несказанно.\n"
      ],
      "metadata": {
        "id": "PSiQG7pl9QRL"
      }
    },
    {
      "cell_type": "markdown",
      "source": [
        "**5. А что там с вопросами? Постройте “рейтинг-лист” турниров по сложности вопросов. Соответствует ли он интуиции (например, на чемпионате мира в целом должны быть сложные вопросы, а на турнирах для школьников — простые)? Если будет интересно: постройте топ сложных и простых вопросов со ссылками на конкретные записи в базе вопросов ЧГК (это чисто техническое дело, тут никакого ML нету).**"
      ],
      "metadata": {
        "id": "4ilzk0I49EOD"
      }
    },
    {
      "cell_type": "markdown",
      "source": [
        "Возьмем последнюю model, принципиально в плане весов ничего не менялось, у каждого вопроса есть вес, который рассматриваем как относительную сложность."
      ],
      "metadata": {
        "id": "BbxOHqV0RgWq"
      }
    },
    {
      "cell_type": "code",
      "source": [
        "quest_difficulty = pd.DataFrame({\"id\": train_questions, \"difficulty\": model.coef_[len(train_players):]})\n",
        "quest_difficulty[\"tourn_id\"] = [id.partition(\"_\")[0] for id in quest_difficulty[\"id\"]]\n",
        "quest_difficulty = quest_difficulty.drop([\"id\"], axis=1).groupby(\"tourn_id\").agg(\"median\").reset_index()"
      ],
      "metadata": {
        "id": "z1aZz7-CCrQA"
      },
      "execution_count": null,
      "outputs": []
    },
    {
      "cell_type": "code",
      "source": [
        "tournaments_df[\"tourn_id\"] = [str(i) for i in tournaments_df[\"tourn_id\"]]"
      ],
      "metadata": {
        "id": "gzMcP6KVfHBN"
      },
      "execution_count": null,
      "outputs": []
    },
    {
      "cell_type": "code",
      "source": [
        "quest_difficulty = quest_difficulty.merge(tournaments_df, left_on=\"tourn_id\", right_on=\"tourn_id\").sort_values(by=[\"difficulty\"])"
      ],
      "metadata": {
        "id": "qK487_ScQQ5T"
      },
      "execution_count": null,
      "outputs": []
    },
    {
      "cell_type": "code",
      "source": [
        "quest_difficulty.head(15)"
      ],
      "metadata": {
        "colab": {
          "base_uri": "https://localhost:8080/",
          "height": 520
        },
        "id": "7Os6W3qhe2sO",
        "outputId": "145006b4-e50f-46ff-c4ef-f92f145a8515"
      },
      "execution_count": null,
      "outputs": [
        {
          "output_type": "execute_result",
          "data": {
            "text/plain": [
              "    tourn_id  difficulty                                     name\n",
              "653     6149   -5.591819  Чемпионат Санкт-Петербурга. Первая лига\n",
              "534     5928   -4.466670                              Угрюмый Ёрш\n",
              "43      5159   -4.298831             Первенство правого полушария\n",
              "223     5515   -4.035072  Чемпионат Минска. Лига А. Тур четвёртый\n",
              "629     6101   -3.973172                       Воображаемый музей\n",
              "365     5684   -3.941718               Синхрон высшей лиги Москвы\n",
              "545     5942   -3.819492         Чемпионат Мира. Этап 2. Группа В\n",
              "546     5943   -3.740539          Чемпионат Мира. Этап 2 Группа С\n",
              "587     5996   -3.740276                 Тихий Донец: омут первый\n",
              "544     5941   -3.734523         Чемпионат Мира. Этап 2. Группа А\n",
              "67      5303   -3.696233             Мемориал Дмитрия Коноваленко\n",
              "543     5940   -3.633174         Чемпионат Мира. Этап 1. Группа С\n",
              "137     5421   -3.632443                     Львов зимой. Адвокат\n",
              "26      5083   -3.614921                        Ускользающая сова\n",
              "280     5587   -3.571833                         Записки охотника"
            ],
            "text/html": [
              "\n",
              "  <div id=\"df-e2c1c630-b748-4fc2-b721-fd63470a2835\">\n",
              "    <div class=\"colab-df-container\">\n",
              "      <div>\n",
              "<style scoped>\n",
              "    .dataframe tbody tr th:only-of-type {\n",
              "        vertical-align: middle;\n",
              "    }\n",
              "\n",
              "    .dataframe tbody tr th {\n",
              "        vertical-align: top;\n",
              "    }\n",
              "\n",
              "    .dataframe thead th {\n",
              "        text-align: right;\n",
              "    }\n",
              "</style>\n",
              "<table border=\"1\" class=\"dataframe\">\n",
              "  <thead>\n",
              "    <tr style=\"text-align: right;\">\n",
              "      <th></th>\n",
              "      <th>tourn_id</th>\n",
              "      <th>difficulty</th>\n",
              "      <th>name</th>\n",
              "    </tr>\n",
              "  </thead>\n",
              "  <tbody>\n",
              "    <tr>\n",
              "      <th>653</th>\n",
              "      <td>6149</td>\n",
              "      <td>-5.591819</td>\n",
              "      <td>Чемпионат Санкт-Петербурга. Первая лига</td>\n",
              "    </tr>\n",
              "    <tr>\n",
              "      <th>534</th>\n",
              "      <td>5928</td>\n",
              "      <td>-4.466670</td>\n",
              "      <td>Угрюмый Ёрш</td>\n",
              "    </tr>\n",
              "    <tr>\n",
              "      <th>43</th>\n",
              "      <td>5159</td>\n",
              "      <td>-4.298831</td>\n",
              "      <td>Первенство правого полушария</td>\n",
              "    </tr>\n",
              "    <tr>\n",
              "      <th>223</th>\n",
              "      <td>5515</td>\n",
              "      <td>-4.035072</td>\n",
              "      <td>Чемпионат Минска. Лига А. Тур четвёртый</td>\n",
              "    </tr>\n",
              "    <tr>\n",
              "      <th>629</th>\n",
              "      <td>6101</td>\n",
              "      <td>-3.973172</td>\n",
              "      <td>Воображаемый музей</td>\n",
              "    </tr>\n",
              "    <tr>\n",
              "      <th>365</th>\n",
              "      <td>5684</td>\n",
              "      <td>-3.941718</td>\n",
              "      <td>Синхрон высшей лиги Москвы</td>\n",
              "    </tr>\n",
              "    <tr>\n",
              "      <th>545</th>\n",
              "      <td>5942</td>\n",
              "      <td>-3.819492</td>\n",
              "      <td>Чемпионат Мира. Этап 2. Группа В</td>\n",
              "    </tr>\n",
              "    <tr>\n",
              "      <th>546</th>\n",
              "      <td>5943</td>\n",
              "      <td>-3.740539</td>\n",
              "      <td>Чемпионат Мира. Этап 2 Группа С</td>\n",
              "    </tr>\n",
              "    <tr>\n",
              "      <th>587</th>\n",
              "      <td>5996</td>\n",
              "      <td>-3.740276</td>\n",
              "      <td>Тихий Донец: омут первый</td>\n",
              "    </tr>\n",
              "    <tr>\n",
              "      <th>544</th>\n",
              "      <td>5941</td>\n",
              "      <td>-3.734523</td>\n",
              "      <td>Чемпионат Мира. Этап 2. Группа А</td>\n",
              "    </tr>\n",
              "    <tr>\n",
              "      <th>67</th>\n",
              "      <td>5303</td>\n",
              "      <td>-3.696233</td>\n",
              "      <td>Мемориал Дмитрия Коноваленко</td>\n",
              "    </tr>\n",
              "    <tr>\n",
              "      <th>543</th>\n",
              "      <td>5940</td>\n",
              "      <td>-3.633174</td>\n",
              "      <td>Чемпионат Мира. Этап 1. Группа С</td>\n",
              "    </tr>\n",
              "    <tr>\n",
              "      <th>137</th>\n",
              "      <td>5421</td>\n",
              "      <td>-3.632443</td>\n",
              "      <td>Львов зимой. Адвокат</td>\n",
              "    </tr>\n",
              "    <tr>\n",
              "      <th>26</th>\n",
              "      <td>5083</td>\n",
              "      <td>-3.614921</td>\n",
              "      <td>Ускользающая сова</td>\n",
              "    </tr>\n",
              "    <tr>\n",
              "      <th>280</th>\n",
              "      <td>5587</td>\n",
              "      <td>-3.571833</td>\n",
              "      <td>Записки охотника</td>\n",
              "    </tr>\n",
              "  </tbody>\n",
              "</table>\n",
              "</div>\n",
              "      <button class=\"colab-df-convert\" onclick=\"convertToInteractive('df-e2c1c630-b748-4fc2-b721-fd63470a2835')\"\n",
              "              title=\"Convert this dataframe to an interactive table.\"\n",
              "              style=\"display:none;\">\n",
              "        \n",
              "  <svg xmlns=\"http://www.w3.org/2000/svg\" height=\"24px\"viewBox=\"0 0 24 24\"\n",
              "       width=\"24px\">\n",
              "    <path d=\"M0 0h24v24H0V0z\" fill=\"none\"/>\n",
              "    <path d=\"M18.56 5.44l.94 2.06.94-2.06 2.06-.94-2.06-.94-.94-2.06-.94 2.06-2.06.94zm-11 1L8.5 8.5l.94-2.06 2.06-.94-2.06-.94L8.5 2.5l-.94 2.06-2.06.94zm10 10l.94 2.06.94-2.06 2.06-.94-2.06-.94-.94-2.06-.94 2.06-2.06.94z\"/><path d=\"M17.41 7.96l-1.37-1.37c-.4-.4-.92-.59-1.43-.59-.52 0-1.04.2-1.43.59L10.3 9.45l-7.72 7.72c-.78.78-.78 2.05 0 2.83L4 21.41c.39.39.9.59 1.41.59.51 0 1.02-.2 1.41-.59l7.78-7.78 2.81-2.81c.8-.78.8-2.07 0-2.86zM5.41 20L4 18.59l7.72-7.72 1.47 1.35L5.41 20z\"/>\n",
              "  </svg>\n",
              "      </button>\n",
              "      \n",
              "  <style>\n",
              "    .colab-df-container {\n",
              "      display:flex;\n",
              "      flex-wrap:wrap;\n",
              "      gap: 12px;\n",
              "    }\n",
              "\n",
              "    .colab-df-convert {\n",
              "      background-color: #E8F0FE;\n",
              "      border: none;\n",
              "      border-radius: 50%;\n",
              "      cursor: pointer;\n",
              "      display: none;\n",
              "      fill: #1967D2;\n",
              "      height: 32px;\n",
              "      padding: 0 0 0 0;\n",
              "      width: 32px;\n",
              "    }\n",
              "\n",
              "    .colab-df-convert:hover {\n",
              "      background-color: #E2EBFA;\n",
              "      box-shadow: 0px 1px 2px rgba(60, 64, 67, 0.3), 0px 1px 3px 1px rgba(60, 64, 67, 0.15);\n",
              "      fill: #174EA6;\n",
              "    }\n",
              "\n",
              "    [theme=dark] .colab-df-convert {\n",
              "      background-color: #3B4455;\n",
              "      fill: #D2E3FC;\n",
              "    }\n",
              "\n",
              "    [theme=dark] .colab-df-convert:hover {\n",
              "      background-color: #434B5C;\n",
              "      box-shadow: 0px 1px 3px 1px rgba(0, 0, 0, 0.15);\n",
              "      filter: drop-shadow(0px 1px 2px rgba(0, 0, 0, 0.3));\n",
              "      fill: #FFFFFF;\n",
              "    }\n",
              "  </style>\n",
              "\n",
              "      <script>\n",
              "        const buttonEl =\n",
              "          document.querySelector('#df-e2c1c630-b748-4fc2-b721-fd63470a2835 button.colab-df-convert');\n",
              "        buttonEl.style.display =\n",
              "          google.colab.kernel.accessAllowed ? 'block' : 'none';\n",
              "\n",
              "        async function convertToInteractive(key) {\n",
              "          const element = document.querySelector('#df-e2c1c630-b748-4fc2-b721-fd63470a2835');\n",
              "          const dataTable =\n",
              "            await google.colab.kernel.invokeFunction('convertToInteractive',\n",
              "                                                     [key], {});\n",
              "          if (!dataTable) return;\n",
              "\n",
              "          const docLinkHtml = 'Like what you see? Visit the ' +\n",
              "            '<a target=\"_blank\" href=https://colab.research.google.com/notebooks/data_table.ipynb>data table notebook</a>'\n",
              "            + ' to learn more about interactive tables.';\n",
              "          element.innerHTML = '';\n",
              "          dataTable['output_type'] = 'display_data';\n",
              "          await google.colab.output.renderOutput(dataTable, element);\n",
              "          const docLink = document.createElement('div');\n",
              "          docLink.innerHTML = docLinkHtml;\n",
              "          element.appendChild(docLink);\n",
              "        }\n",
              "      </script>\n",
              "    </div>\n",
              "  </div>\n",
              "  "
            ]
          },
          "metadata": {},
          "execution_count": 41
        }
      ]
    },
    {
      "cell_type": "code",
      "source": [
        "quest_difficulty.tail(15)"
      ],
      "metadata": {
        "colab": {
          "base_uri": "https://localhost:8080/",
          "height": 520
        },
        "id": "1HGoggQsg2Sm",
        "outputId": "8a78532b-4f7a-4710-b9ad-84752e265e88"
      },
      "execution_count": null,
      "outputs": [
        {
          "output_type": "execute_result",
          "data": {
            "text/plain": [
              "    tourn_id  difficulty                                               name\n",
              "9       5011    3.511107            (а)Синхрон-lite. Лига старта. Эпизод IV\n",
              "591     6003    3.529005   Второй тематический турнир имени Джоуи Триббиани\n",
              "10      5012    3.613034                  Школьный Синхрон-lite. Выпуск 2.5\n",
              "539     5936    3.668232                              Школьная лига. I тур.\n",
              "380     5702    3.716794            (а)Синхрон-lite. Лига старта. Эпизод IX\n",
              "376     5698    3.723640           (а)Синхрон-lite. Лига старта. Эпизод VII\n",
              "557     5955    3.945520                            Школьная лига. III тур.\n",
              "633     6105    4.026487  Чемпионат МГУ. Открытая лига. Первый игровой день\n",
              "526     5912    4.062430                                  Borisov Brain Cup\n",
              "7       5009    4.130933           (а)Синхрон-lite. Лига старта. Эпизод III\n",
              "171     5457    4.239396     Студенческий чемпионат Калининградской области\n",
              "11      5013    4.331416             (а)Синхрон-lite. Лига старта. Эпизод V\n",
              "153     5438    5.081457                                Синхрон Лиги Разума\n",
              "461     5827    8.744267                  Шестой киевский марафон. Асинхрон\n",
              "630     6102   18.109470                                   One ring - async"
            ],
            "text/html": [
              "\n",
              "  <div id=\"df-532004d4-e7c2-40ca-b3bd-1d580349594c\">\n",
              "    <div class=\"colab-df-container\">\n",
              "      <div>\n",
              "<style scoped>\n",
              "    .dataframe tbody tr th:only-of-type {\n",
              "        vertical-align: middle;\n",
              "    }\n",
              "\n",
              "    .dataframe tbody tr th {\n",
              "        vertical-align: top;\n",
              "    }\n",
              "\n",
              "    .dataframe thead th {\n",
              "        text-align: right;\n",
              "    }\n",
              "</style>\n",
              "<table border=\"1\" class=\"dataframe\">\n",
              "  <thead>\n",
              "    <tr style=\"text-align: right;\">\n",
              "      <th></th>\n",
              "      <th>tourn_id</th>\n",
              "      <th>difficulty</th>\n",
              "      <th>name</th>\n",
              "    </tr>\n",
              "  </thead>\n",
              "  <tbody>\n",
              "    <tr>\n",
              "      <th>9</th>\n",
              "      <td>5011</td>\n",
              "      <td>3.511107</td>\n",
              "      <td>(а)Синхрон-lite. Лига старта. Эпизод IV</td>\n",
              "    </tr>\n",
              "    <tr>\n",
              "      <th>591</th>\n",
              "      <td>6003</td>\n",
              "      <td>3.529005</td>\n",
              "      <td>Второй тематический турнир имени Джоуи Триббиани</td>\n",
              "    </tr>\n",
              "    <tr>\n",
              "      <th>10</th>\n",
              "      <td>5012</td>\n",
              "      <td>3.613034</td>\n",
              "      <td>Школьный Синхрон-lite. Выпуск 2.5</td>\n",
              "    </tr>\n",
              "    <tr>\n",
              "      <th>539</th>\n",
              "      <td>5936</td>\n",
              "      <td>3.668232</td>\n",
              "      <td>Школьная лига. I тур.</td>\n",
              "    </tr>\n",
              "    <tr>\n",
              "      <th>380</th>\n",
              "      <td>5702</td>\n",
              "      <td>3.716794</td>\n",
              "      <td>(а)Синхрон-lite. Лига старта. Эпизод IX</td>\n",
              "    </tr>\n",
              "    <tr>\n",
              "      <th>376</th>\n",
              "      <td>5698</td>\n",
              "      <td>3.723640</td>\n",
              "      <td>(а)Синхрон-lite. Лига старта. Эпизод VII</td>\n",
              "    </tr>\n",
              "    <tr>\n",
              "      <th>557</th>\n",
              "      <td>5955</td>\n",
              "      <td>3.945520</td>\n",
              "      <td>Школьная лига. III тур.</td>\n",
              "    </tr>\n",
              "    <tr>\n",
              "      <th>633</th>\n",
              "      <td>6105</td>\n",
              "      <td>4.026487</td>\n",
              "      <td>Чемпионат МГУ. Открытая лига. Первый игровой день</td>\n",
              "    </tr>\n",
              "    <tr>\n",
              "      <th>526</th>\n",
              "      <td>5912</td>\n",
              "      <td>4.062430</td>\n",
              "      <td>Borisov Brain Cup</td>\n",
              "    </tr>\n",
              "    <tr>\n",
              "      <th>7</th>\n",
              "      <td>5009</td>\n",
              "      <td>4.130933</td>\n",
              "      <td>(а)Синхрон-lite. Лига старта. Эпизод III</td>\n",
              "    </tr>\n",
              "    <tr>\n",
              "      <th>171</th>\n",
              "      <td>5457</td>\n",
              "      <td>4.239396</td>\n",
              "      <td>Студенческий чемпионат Калининградской области</td>\n",
              "    </tr>\n",
              "    <tr>\n",
              "      <th>11</th>\n",
              "      <td>5013</td>\n",
              "      <td>4.331416</td>\n",
              "      <td>(а)Синхрон-lite. Лига старта. Эпизод V</td>\n",
              "    </tr>\n",
              "    <tr>\n",
              "      <th>153</th>\n",
              "      <td>5438</td>\n",
              "      <td>5.081457</td>\n",
              "      <td>Синхрон Лиги Разума</td>\n",
              "    </tr>\n",
              "    <tr>\n",
              "      <th>461</th>\n",
              "      <td>5827</td>\n",
              "      <td>8.744267</td>\n",
              "      <td>Шестой киевский марафон. Асинхрон</td>\n",
              "    </tr>\n",
              "    <tr>\n",
              "      <th>630</th>\n",
              "      <td>6102</td>\n",
              "      <td>18.109470</td>\n",
              "      <td>One ring - async</td>\n",
              "    </tr>\n",
              "  </tbody>\n",
              "</table>\n",
              "</div>\n",
              "      <button class=\"colab-df-convert\" onclick=\"convertToInteractive('df-532004d4-e7c2-40ca-b3bd-1d580349594c')\"\n",
              "              title=\"Convert this dataframe to an interactive table.\"\n",
              "              style=\"display:none;\">\n",
              "        \n",
              "  <svg xmlns=\"http://www.w3.org/2000/svg\" height=\"24px\"viewBox=\"0 0 24 24\"\n",
              "       width=\"24px\">\n",
              "    <path d=\"M0 0h24v24H0V0z\" fill=\"none\"/>\n",
              "    <path d=\"M18.56 5.44l.94 2.06.94-2.06 2.06-.94-2.06-.94-.94-2.06-.94 2.06-2.06.94zm-11 1L8.5 8.5l.94-2.06 2.06-.94-2.06-.94L8.5 2.5l-.94 2.06-2.06.94zm10 10l.94 2.06.94-2.06 2.06-.94-2.06-.94-.94-2.06-.94 2.06-2.06.94z\"/><path d=\"M17.41 7.96l-1.37-1.37c-.4-.4-.92-.59-1.43-.59-.52 0-1.04.2-1.43.59L10.3 9.45l-7.72 7.72c-.78.78-.78 2.05 0 2.83L4 21.41c.39.39.9.59 1.41.59.51 0 1.02-.2 1.41-.59l7.78-7.78 2.81-2.81c.8-.78.8-2.07 0-2.86zM5.41 20L4 18.59l7.72-7.72 1.47 1.35L5.41 20z\"/>\n",
              "  </svg>\n",
              "      </button>\n",
              "      \n",
              "  <style>\n",
              "    .colab-df-container {\n",
              "      display:flex;\n",
              "      flex-wrap:wrap;\n",
              "      gap: 12px;\n",
              "    }\n",
              "\n",
              "    .colab-df-convert {\n",
              "      background-color: #E8F0FE;\n",
              "      border: none;\n",
              "      border-radius: 50%;\n",
              "      cursor: pointer;\n",
              "      display: none;\n",
              "      fill: #1967D2;\n",
              "      height: 32px;\n",
              "      padding: 0 0 0 0;\n",
              "      width: 32px;\n",
              "    }\n",
              "\n",
              "    .colab-df-convert:hover {\n",
              "      background-color: #E2EBFA;\n",
              "      box-shadow: 0px 1px 2px rgba(60, 64, 67, 0.3), 0px 1px 3px 1px rgba(60, 64, 67, 0.15);\n",
              "      fill: #174EA6;\n",
              "    }\n",
              "\n",
              "    [theme=dark] .colab-df-convert {\n",
              "      background-color: #3B4455;\n",
              "      fill: #D2E3FC;\n",
              "    }\n",
              "\n",
              "    [theme=dark] .colab-df-convert:hover {\n",
              "      background-color: #434B5C;\n",
              "      box-shadow: 0px 1px 3px 1px rgba(0, 0, 0, 0.15);\n",
              "      filter: drop-shadow(0px 1px 2px rgba(0, 0, 0, 0.3));\n",
              "      fill: #FFFFFF;\n",
              "    }\n",
              "  </style>\n",
              "\n",
              "      <script>\n",
              "        const buttonEl =\n",
              "          document.querySelector('#df-532004d4-e7c2-40ca-b3bd-1d580349594c button.colab-df-convert');\n",
              "        buttonEl.style.display =\n",
              "          google.colab.kernel.accessAllowed ? 'block' : 'none';\n",
              "\n",
              "        async function convertToInteractive(key) {\n",
              "          const element = document.querySelector('#df-532004d4-e7c2-40ca-b3bd-1d580349594c');\n",
              "          const dataTable =\n",
              "            await google.colab.kernel.invokeFunction('convertToInteractive',\n",
              "                                                     [key], {});\n",
              "          if (!dataTable) return;\n",
              "\n",
              "          const docLinkHtml = 'Like what you see? Visit the ' +\n",
              "            '<a target=\"_blank\" href=https://colab.research.google.com/notebooks/data_table.ipynb>data table notebook</a>'\n",
              "            + ' to learn more about interactive tables.';\n",
              "          element.innerHTML = '';\n",
              "          dataTable['output_type'] = 'display_data';\n",
              "          await google.colab.output.renderOutput(dataTable, element);\n",
              "          const docLink = document.createElement('div');\n",
              "          docLink.innerHTML = docLinkHtml;\n",
              "          element.appendChild(docLink);\n",
              "        }\n",
              "      </script>\n",
              "    </div>\n",
              "  </div>\n",
              "  "
            ]
          },
          "metadata": {},
          "execution_count": 42
        }
      ]
    },
    {
      "cell_type": "markdown",
      "source": [
        "Что-то непонятное с весами у One ring - async и вцелом какой-то странный турнир получается, 1 команда. Надо было его, наверно, изначально отловить и удалить. В остальном, наверно, похоже. Внизу школьные турниры, лига старта, в Топе Чемпионат Мира и лиги Спб и Мск. Звучит правдоподобно. \"Угрюмый Ёрш\" стало интересно, посмотрела на сайте, там у него название длиннее \"Угрюмый Ёрш 2: Невыносимая сложность\". Видимо, название дали справедливо."
      ],
      "metadata": {
        "id": "YDSKi1ALhIx0"
      }
    },
    {
      "cell_type": "code",
      "source": [
        "results[6102]"
      ],
      "metadata": {
        "colab": {
          "base_uri": "https://localhost:8080/"
        },
        "id": "6c4vARhPg8BX",
        "outputId": "3338ea4a-08fb-459c-9355-b5f47f2786f3"
      },
      "execution_count": null,
      "outputs": [
        {
          "output_type": "execute_result",
          "data": {
            "text/plain": [
              "[{'controversials': [],\n",
              "  'current': {'name': 'Два слова на букву К',\n",
              "   'town': {'id': 2047, 'name': 'Гейдельберг'}},\n",
              "  'flags': [],\n",
              "  'mask': '111110000010111110100001011101000101',\n",
              "  'position': 1,\n",
              "  'questionsTotal': 19,\n",
              "  'synchRequest': {'id': 72313, 'venue': {'id': 3361, 'name': 'Гейдельберг'}},\n",
              "  'team': {'id': 55486,\n",
              "   'name': 'Два слова на букву К',\n",
              "   'town': {'id': 2047, 'name': 'Гейдельберг'}},\n",
              "  'teamMembers': [{'flag': 'Б',\n",
              "    'player': {'id': 132927,\n",
              "     'name': 'Елена',\n",
              "     'patronymic': 'Сергеевна',\n",
              "     'surname': 'Шаповал'},\n",
              "    'rating': 8122,\n",
              "    'usedRating': 8122}]}]"
            ]
          },
          "metadata": {},
          "execution_count": 43
        }
      ]
    },
    {
      "cell_type": "markdown",
      "source": [
        "Не совсем задание 6, но посмотреть что получилось по рейтингу игроков интересно"
      ],
      "metadata": {
        "id": "saku1l0NsUxD"
      }
    },
    {
      "cell_type": "code",
      "source": [
        "power_result = pd.merge(power, players_data).sort_values(by=\"power\", ascending=False)"
      ],
      "metadata": {
        "id": "DKYdSRDvm8zR"
      },
      "execution_count": null,
      "outputs": []
    },
    {
      "cell_type": "code",
      "source": [
        "power_result.reset_index(drop=True).head(20)"
      ],
      "metadata": {
        "colab": {
          "base_uri": "https://localhost:8080/",
          "height": 677
        },
        "outputId": "4a67e330-e305-443b-f105-bd20de1ae034",
        "id": "5UK_UFGIm8zS"
      },
      "execution_count": null,
      "outputs": [
        {
          "output_type": "execute_result",
          "data": {
            "text/plain": [
              "        id      power     proba                      full name\n",
              "0   135951  13.306715  0.981845        Стетой Артём Феликсович\n",
              "1    38175  13.276677  0.981301      Пилипенко Максим Игоревич\n",
              "2   199963  12.472054  0.959137      Бровченко Елена Борисовна\n",
              "3    22474  11.864390  0.927448           Немец Илья Сергеевич\n",
              "4   133504  11.453561  0.894477      Лебедева София Евгеньевна\n",
              "5    14996  11.047932  0.849627    Козлова Ольга Александровна\n",
              "6   121433  10.765225  0.809841        Савенко София Романовна\n",
              "7   202410  10.675194  0.795588            Подюкова Валентина \n",
              "8     4876   9.998371  0.664212   Вакуленко Владимир Сергеевич\n",
              "9   163668   9.884585  0.638379       Титов Георгий Михайлович\n",
              "10  212663   9.767452  0.610925      Губина Майя Александровна\n",
              "11  123750   9.554028  0.559166      Завьялов Сергей Андреевич\n",
              "12  212666   9.352719  0.509116       Печёнкина Анна Сергеевна\n",
              "13  201102   9.097374  0.445498       Молчанова Софья Павловна\n",
              "14   40411   9.074421  0.439836      Кудинов Дмитрий Сергеевич\n",
              "15   33459   9.055354  0.435143                Фрайман Феликс \n",
              "16  113894   8.814477  0.377124       Беляев Пётр Владимирович\n",
              "17   17750   8.801245  0.374021   Лазарева Галина Вячеславовна\n",
              "18   95233   8.779736  0.368999  Короткий Сергей Александрович\n",
              "19   55044   8.774289  0.367731  Гусарова Светлана Анатольевна"
            ],
            "text/html": [
              "\n",
              "  <div id=\"df-667cefe1-5e88-4a38-a198-c9fedf316d3c\">\n",
              "    <div class=\"colab-df-container\">\n",
              "      <div>\n",
              "<style scoped>\n",
              "    .dataframe tbody tr th:only-of-type {\n",
              "        vertical-align: middle;\n",
              "    }\n",
              "\n",
              "    .dataframe tbody tr th {\n",
              "        vertical-align: top;\n",
              "    }\n",
              "\n",
              "    .dataframe thead th {\n",
              "        text-align: right;\n",
              "    }\n",
              "</style>\n",
              "<table border=\"1\" class=\"dataframe\">\n",
              "  <thead>\n",
              "    <tr style=\"text-align: right;\">\n",
              "      <th></th>\n",
              "      <th>id</th>\n",
              "      <th>power</th>\n",
              "      <th>proba</th>\n",
              "      <th>full name</th>\n",
              "    </tr>\n",
              "  </thead>\n",
              "  <tbody>\n",
              "    <tr>\n",
              "      <th>0</th>\n",
              "      <td>135951</td>\n",
              "      <td>13.306715</td>\n",
              "      <td>0.981845</td>\n",
              "      <td>Стетой Артём Феликсович</td>\n",
              "    </tr>\n",
              "    <tr>\n",
              "      <th>1</th>\n",
              "      <td>38175</td>\n",
              "      <td>13.276677</td>\n",
              "      <td>0.981301</td>\n",
              "      <td>Пилипенко Максим Игоревич</td>\n",
              "    </tr>\n",
              "    <tr>\n",
              "      <th>2</th>\n",
              "      <td>199963</td>\n",
              "      <td>12.472054</td>\n",
              "      <td>0.959137</td>\n",
              "      <td>Бровченко Елена Борисовна</td>\n",
              "    </tr>\n",
              "    <tr>\n",
              "      <th>3</th>\n",
              "      <td>22474</td>\n",
              "      <td>11.864390</td>\n",
              "      <td>0.927448</td>\n",
              "      <td>Немец Илья Сергеевич</td>\n",
              "    </tr>\n",
              "    <tr>\n",
              "      <th>4</th>\n",
              "      <td>133504</td>\n",
              "      <td>11.453561</td>\n",
              "      <td>0.894477</td>\n",
              "      <td>Лебедева София Евгеньевна</td>\n",
              "    </tr>\n",
              "    <tr>\n",
              "      <th>5</th>\n",
              "      <td>14996</td>\n",
              "      <td>11.047932</td>\n",
              "      <td>0.849627</td>\n",
              "      <td>Козлова Ольга Александровна</td>\n",
              "    </tr>\n",
              "    <tr>\n",
              "      <th>6</th>\n",
              "      <td>121433</td>\n",
              "      <td>10.765225</td>\n",
              "      <td>0.809841</td>\n",
              "      <td>Савенко София Романовна</td>\n",
              "    </tr>\n",
              "    <tr>\n",
              "      <th>7</th>\n",
              "      <td>202410</td>\n",
              "      <td>10.675194</td>\n",
              "      <td>0.795588</td>\n",
              "      <td>Подюкова Валентина</td>\n",
              "    </tr>\n",
              "    <tr>\n",
              "      <th>8</th>\n",
              "      <td>4876</td>\n",
              "      <td>9.998371</td>\n",
              "      <td>0.664212</td>\n",
              "      <td>Вакуленко Владимир Сергеевич</td>\n",
              "    </tr>\n",
              "    <tr>\n",
              "      <th>9</th>\n",
              "      <td>163668</td>\n",
              "      <td>9.884585</td>\n",
              "      <td>0.638379</td>\n",
              "      <td>Титов Георгий Михайлович</td>\n",
              "    </tr>\n",
              "    <tr>\n",
              "      <th>10</th>\n",
              "      <td>212663</td>\n",
              "      <td>9.767452</td>\n",
              "      <td>0.610925</td>\n",
              "      <td>Губина Майя Александровна</td>\n",
              "    </tr>\n",
              "    <tr>\n",
              "      <th>11</th>\n",
              "      <td>123750</td>\n",
              "      <td>9.554028</td>\n",
              "      <td>0.559166</td>\n",
              "      <td>Завьялов Сергей Андреевич</td>\n",
              "    </tr>\n",
              "    <tr>\n",
              "      <th>12</th>\n",
              "      <td>212666</td>\n",
              "      <td>9.352719</td>\n",
              "      <td>0.509116</td>\n",
              "      <td>Печёнкина Анна Сергеевна</td>\n",
              "    </tr>\n",
              "    <tr>\n",
              "      <th>13</th>\n",
              "      <td>201102</td>\n",
              "      <td>9.097374</td>\n",
              "      <td>0.445498</td>\n",
              "      <td>Молчанова Софья Павловна</td>\n",
              "    </tr>\n",
              "    <tr>\n",
              "      <th>14</th>\n",
              "      <td>40411</td>\n",
              "      <td>9.074421</td>\n",
              "      <td>0.439836</td>\n",
              "      <td>Кудинов Дмитрий Сергеевич</td>\n",
              "    </tr>\n",
              "    <tr>\n",
              "      <th>15</th>\n",
              "      <td>33459</td>\n",
              "      <td>9.055354</td>\n",
              "      <td>0.435143</td>\n",
              "      <td>Фрайман Феликс</td>\n",
              "    </tr>\n",
              "    <tr>\n",
              "      <th>16</th>\n",
              "      <td>113894</td>\n",
              "      <td>8.814477</td>\n",
              "      <td>0.377124</td>\n",
              "      <td>Беляев Пётр Владимирович</td>\n",
              "    </tr>\n",
              "    <tr>\n",
              "      <th>17</th>\n",
              "      <td>17750</td>\n",
              "      <td>8.801245</td>\n",
              "      <td>0.374021</td>\n",
              "      <td>Лазарева Галина Вячеславовна</td>\n",
              "    </tr>\n",
              "    <tr>\n",
              "      <th>18</th>\n",
              "      <td>95233</td>\n",
              "      <td>8.779736</td>\n",
              "      <td>0.368999</td>\n",
              "      <td>Короткий Сергей Александрович</td>\n",
              "    </tr>\n",
              "    <tr>\n",
              "      <th>19</th>\n",
              "      <td>55044</td>\n",
              "      <td>8.774289</td>\n",
              "      <td>0.367731</td>\n",
              "      <td>Гусарова Светлана Анатольевна</td>\n",
              "    </tr>\n",
              "  </tbody>\n",
              "</table>\n",
              "</div>\n",
              "      <button class=\"colab-df-convert\" onclick=\"convertToInteractive('df-667cefe1-5e88-4a38-a198-c9fedf316d3c')\"\n",
              "              title=\"Convert this dataframe to an interactive table.\"\n",
              "              style=\"display:none;\">\n",
              "        \n",
              "  <svg xmlns=\"http://www.w3.org/2000/svg\" height=\"24px\"viewBox=\"0 0 24 24\"\n",
              "       width=\"24px\">\n",
              "    <path d=\"M0 0h24v24H0V0z\" fill=\"none\"/>\n",
              "    <path d=\"M18.56 5.44l.94 2.06.94-2.06 2.06-.94-2.06-.94-.94-2.06-.94 2.06-2.06.94zm-11 1L8.5 8.5l.94-2.06 2.06-.94-2.06-.94L8.5 2.5l-.94 2.06-2.06.94zm10 10l.94 2.06.94-2.06 2.06-.94-2.06-.94-.94-2.06-.94 2.06-2.06.94z\"/><path d=\"M17.41 7.96l-1.37-1.37c-.4-.4-.92-.59-1.43-.59-.52 0-1.04.2-1.43.59L10.3 9.45l-7.72 7.72c-.78.78-.78 2.05 0 2.83L4 21.41c.39.39.9.59 1.41.59.51 0 1.02-.2 1.41-.59l7.78-7.78 2.81-2.81c.8-.78.8-2.07 0-2.86zM5.41 20L4 18.59l7.72-7.72 1.47 1.35L5.41 20z\"/>\n",
              "  </svg>\n",
              "      </button>\n",
              "      \n",
              "  <style>\n",
              "    .colab-df-container {\n",
              "      display:flex;\n",
              "      flex-wrap:wrap;\n",
              "      gap: 12px;\n",
              "    }\n",
              "\n",
              "    .colab-df-convert {\n",
              "      background-color: #E8F0FE;\n",
              "      border: none;\n",
              "      border-radius: 50%;\n",
              "      cursor: pointer;\n",
              "      display: none;\n",
              "      fill: #1967D2;\n",
              "      height: 32px;\n",
              "      padding: 0 0 0 0;\n",
              "      width: 32px;\n",
              "    }\n",
              "\n",
              "    .colab-df-convert:hover {\n",
              "      background-color: #E2EBFA;\n",
              "      box-shadow: 0px 1px 2px rgba(60, 64, 67, 0.3), 0px 1px 3px 1px rgba(60, 64, 67, 0.15);\n",
              "      fill: #174EA6;\n",
              "    }\n",
              "\n",
              "    [theme=dark] .colab-df-convert {\n",
              "      background-color: #3B4455;\n",
              "      fill: #D2E3FC;\n",
              "    }\n",
              "\n",
              "    [theme=dark] .colab-df-convert:hover {\n",
              "      background-color: #434B5C;\n",
              "      box-shadow: 0px 1px 3px 1px rgba(0, 0, 0, 0.15);\n",
              "      filter: drop-shadow(0px 1px 2px rgba(0, 0, 0, 0.3));\n",
              "      fill: #FFFFFF;\n",
              "    }\n",
              "  </style>\n",
              "\n",
              "      <script>\n",
              "        const buttonEl =\n",
              "          document.querySelector('#df-667cefe1-5e88-4a38-a198-c9fedf316d3c button.colab-df-convert');\n",
              "        buttonEl.style.display =\n",
              "          google.colab.kernel.accessAllowed ? 'block' : 'none';\n",
              "\n",
              "        async function convertToInteractive(key) {\n",
              "          const element = document.querySelector('#df-667cefe1-5e88-4a38-a198-c9fedf316d3c');\n",
              "          const dataTable =\n",
              "            await google.colab.kernel.invokeFunction('convertToInteractive',\n",
              "                                                     [key], {});\n",
              "          if (!dataTable) return;\n",
              "\n",
              "          const docLinkHtml = 'Like what you see? Visit the ' +\n",
              "            '<a target=\"_blank\" href=https://colab.research.google.com/notebooks/data_table.ipynb>data table notebook</a>'\n",
              "            + ' to learn more about interactive tables.';\n",
              "          element.innerHTML = '';\n",
              "          dataTable['output_type'] = 'display_data';\n",
              "          await google.colab.output.renderOutput(dataTable, element);\n",
              "          const docLink = document.createElement('div');\n",
              "          docLink.innerHTML = docLinkHtml;\n",
              "          element.appendChild(docLink);\n",
              "        }\n",
              "      </script>\n",
              "    </div>\n",
              "  </div>\n",
              "  "
            ]
          },
          "metadata": {},
          "execution_count": 45
        }
      ]
    },
    {
      "cell_type": "markdown",
      "source": [
        "Результаты довольно не симпатичные. Получается, что высшую силу модель придает игрокам, кто играл буквально 1 турнир и сыграл его очень хорошо(посмотрела на сайте по некоторым игрокам). Но, с другой стороны, если мы смотрим исключительно на 2019год, то звучит отчасти логично. Но апгрейдить модель сил не хватило ни моральных ни ОЗУ "
      ],
      "metadata": {
        "id": "PInCvz2Ap8IE"
      }
    }
  ]
}